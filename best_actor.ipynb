{
  "nbformat": 4,
  "nbformat_minor": 0,
  "metadata": {
    "colab": {
      "name": "best_actor.ipynb",
      "provenance": [],
      "collapsed_sections": [],
      "toc_visible": true
    },
    "kernelspec": {
      "name": "python3",
      "display_name": "Python 3"
    },
    "accelerator": "GPU"
  },
  "cells": [
    {
      "cell_type": "markdown",
      "metadata": {
        "id": "YyBqkgZISsmf",
        "colab_type": "text"
      },
      "source": [
        "# Best Actor - Mobile Game about Facial Expression based on Convolutional Neural Network"
      ]
    },
    {
      "cell_type": "markdown",
      "metadata": {
        "id": "bSxCe4JnUZgt",
        "colab_type": "text"
      },
      "source": [
        "## Abstract"
      ]
    },
    {
      "cell_type": "markdown",
      "metadata": {
        "id": "lnmA_P3cVPFE",
        "colab_type": "text"
      },
      "source": [
        "TODO"
      ]
    },
    {
      "cell_type": "markdown",
      "metadata": {
        "id": "8uZzZMz2TuaT",
        "colab_type": "text"
      },
      "source": [
        "## Terminology"
      ]
    },
    {
      "cell_type": "markdown",
      "metadata": {
        "id": "Rp0XZ2zKVQqa",
        "colab_type": "text"
      },
      "source": [
        "TODO"
      ]
    },
    {
      "cell_type": "markdown",
      "metadata": {
        "id": "9diS26hMZtGb",
        "colab_type": "text"
      },
      "source": [
        "## UI & UX Design"
      ]
    },
    {
      "cell_type": "markdown",
      "metadata": {
        "id": "90C9c0FvZvi4",
        "colab_type": "text"
      },
      "source": [
        "TODO"
      ]
    },
    {
      "cell_type": "markdown",
      "metadata": {
        "id": "hqdF7trTVH72",
        "colab_type": "text"
      },
      "source": [
        "## Technical Design"
      ]
    },
    {
      "cell_type": "markdown",
      "metadata": {
        "id": "Z1KYc1HNVOjX",
        "colab_type": "text"
      },
      "source": [
        "TODO"
      ]
    },
    {
      "cell_type": "markdown",
      "metadata": {
        "id": "JFtLSjWSVSvR",
        "colab_type": "text"
      },
      "source": [
        "## Code Implementation"
      ]
    },
    {
      "cell_type": "markdown",
      "metadata": {
        "id": "KvSr_4aaZEvB",
        "colab_type": "text"
      },
      "source": [
        "### Part 1: Computer Vision"
      ]
    },
    {
      "cell_type": "markdown",
      "metadata": {
        "id": "E3G_H9tDXYtE",
        "colab_type": "text"
      },
      "source": [
        "#### **Preprocess Data**"
      ]
    },
    {
      "cell_type": "markdown",
      "metadata": {
        "id": "P-vF1AWBXboW",
        "colab_type": "text"
      },
      "source": [
        "First and foremost, we need to preprocess the dataset. Here I use **FER2013** dataset for the facial expression recognition, which contains 7 categories in total, including (1) Angry, (2) Disgust, (3) Fear, (4) Happy, (5) Neutral, (6) Sad and (7) Surprise. The examples of FER2013 dataset are illustrated as follows."
      ]
    },
    {
      "cell_type": "markdown",
      "metadata": {
        "id": "ACQAlEIbqM6c",
        "colab_type": "text"
      },
      "source": [
        "![Facial Expressions](https://drive.google.com/uc?id=11VQZQZLD0_GwkcR4vUWTNtBdbbZS0Dh7)"
      ]
    },
    {
      "cell_type": "markdown",
      "metadata": {
        "id": "pgV6jxk5yyxb",
        "colab_type": "text"
      },
      "source": [
        "The dataset has the following advantages:\n",
        "- It contains dataset with various ages\n",
        "![age](https://drive.google.com/uc?id=1mUcafNru8bb6pn-6xFkW74qIQVpI9Jyh)\n",
        "- It contains dataset with different ethics\n",
        "![ethic](https://drive.google.com/uc?id=1bZf1BR-fVZvnHmlgT-ZDbJKRQULxfOJ7)\n",
        "- It contains dataset with accessories\n",
        "![accessory](https://drive.google.com/uc?id=1xmEbRDzKBeDRpGa63hGH-kIBOGMXMJJp)"
      ]
    },
    {
      "cell_type": "markdown",
      "metadata": {
        "id": "J-CGU0qRLzMB",
        "colab_type": "text"
      },
      "source": [
        "However, the dataset also has the following disadvantages:\n",
        "- Some images have watermark, which might have potential copyright issue\n",
        "![watermark](https://drive.google.com/uc?id=142nfQZ3a1hMdFhQIr2-V3wmxBEvYFDhz)\n",
        "- Some images are cartoon characters\n",
        "![cartoon](https://drive.google.com/uc?id=1UTUDU5ac8aTcfR9O7WTqDUkGgj-1RfkJ)\n",
        "- Some images have inconsistent facial expressions and labels. For example, the following facial expressions are marked as \"Happy\" in FER2013 dataset, which are apparently not \"Happy\" facial expressions\n",
        "![inconsistent](https://drive.google.com/uc?id=1Gu0SNL7B3uoQ7TEmv1LRe3-97NCET9iX)\n",
        "- Some images are broken and have no facial expressions\n",
        "![non-people](https://drive.google.com/uc?id=1sbeWG41IOot29GOY6iCAwRQPG71-Euhk)\n",
        "- Some images have multiple faces\n",
        "![many](https://drive.google.com/uc?id=1l8PPTBHb7BPS7LukOAdVV0yM1ZaBSAlQ)"
      ]
    },
    {
      "cell_type": "markdown",
      "metadata": {
        "id": "ViD-C3huB--E",
        "colab_type": "text"
      },
      "source": [
        "Therefore, I preprocessed the dataset by removing ineligible images. Then, I created the preprocessed \"train.csv\" with the following function.\n",
        "```python\n",
        "from PIL import Image\n",
        "import os\n",
        "import imghdr\n",
        "import numpy\n",
        "import csv\n",
        "\n",
        "# Constants\n",
        "TRAINING_DATA_DIRECTORY = 'TrainingDataSelected/'\n",
        "TRAIN_CSV_FILE = 'train.csv'\n",
        "TRAIN_CSV_WRITE_MODE = 'w'\n",
        "TRAIN_DATA_IMAGE_TYPE = 'jpeg'\n",
        "\n",
        "FACIAL_EXPRESSION_LABELS = {\n",
        "    'Happy': '0',\n",
        "    'Sad': '1',\n",
        "    'Surprise': '2'\n",
        "}\n",
        "\n",
        "class Preprocessor:\n",
        "\n",
        "    def preprocess_data(self):\n",
        "        \"\"\"Preprocess facial expression dataset.\n",
        "        This function will save training data to train.csv in the directory.\n",
        "        train.csv contains two columns:\n",
        "        - Facial expression label\n",
        "        - Numpy array of facial expression image file (48 x 48)\n",
        "        \"\"\"\n",
        "        with open(TRAIN_CSV_FILE, mode=TRAIN_CSV_WRITE_MODE) as train:\n",
        "\n",
        "            # Create train writer\n",
        "            train_writer = csv.writer(train)\n",
        "\n",
        "            # Iterate through training image data\n",
        "            with os.scandir(TRAINING_DATA_DIRECTORY) as entries:\n",
        "\n",
        "                for entry in entries:\n",
        "                    path = entry.path\n",
        "                    file_type = imghdr.what(path)\n",
        "\n",
        "                    if file_type == TRAIN_DATA_IMAGE_TYPE:\n",
        "\n",
        "                        # Label\n",
        "                        name = entry.name\n",
        "                        facial_expression_name = name.split('_')[0]\n",
        "                        label = FACIAL_EXPRESSION_LABELS[facial_expression_name]\n",
        "\n",
        "                        # Image file\n",
        "                        image_file = Image.open(path)\n",
        "                        image = numpy.array(image_file)\n",
        "                        pixels = '-'.join(map(str, image.flat))\n",
        "\n",
        "                        # Write to CSV file\n",
        "                        row = [label, pixels]\n",
        "                        train_writer.writerow(row)\n",
        "\n",
        "# Preprocess data\n",
        "preprocessor = Preprocessor()\n",
        "preprocessor.preprocess_data()\n",
        "```"
      ]
    },
    {
      "cell_type": "markdown",
      "metadata": {
        "id": "9CfhEZQlXcwx",
        "colab_type": "text"
      },
      "source": [
        "#### **Load Data**"
      ]
    },
    {
      "cell_type": "markdown",
      "metadata": {
        "id": "jzGTHa1_XeyV",
        "colab_type": "text"
      },
      "source": [
        "After preprocessed the data, the \"train.csv\" has been uploaded to Google Drive. Then, use the following function to download the dataset."
      ]
    },
    {
      "cell_type": "code",
      "metadata": {
        "id": "fb657GXgjctt",
        "colab_type": "code",
        "colab": {
          "base_uri": "https://localhost:8080/",
          "height": 326
        },
        "outputId": "5da71ebc-da54-432a-909b-4f99cad3c400"
      },
      "source": [
        "!wget --no-check-certificate 'https://docs.google.com/uc?export=download&id=1nN7LOW50ZpLAJ7tb6w6_OuOgpWv1rOV1' -O train.csv"
      ],
      "execution_count": 1,
      "outputs": [
        {
          "output_type": "stream",
          "text": [
            "--2020-01-26 03:34:02--  https://docs.google.com/uc?export=download&id=1nN7LOW50ZpLAJ7tb6w6_OuOgpWv1rOV1\n",
            "Resolving docs.google.com (docs.google.com)... 172.217.212.101, 172.217.212.139, 172.217.212.100, ...\n",
            "Connecting to docs.google.com (docs.google.com)|172.217.212.101|:443... connected.\n",
            "HTTP request sent, awaiting response... 302 Moved Temporarily\n",
            "Location: https://doc-00-34-docs.googleusercontent.com/docs/securesc/ha0ro937gcuc7l7deffksulhg5h7mbp1/nk0q99prt5bog7gibotttblcg69iej73/1580004000000/05684750869889568925/*/1nN7LOW50ZpLAJ7tb6w6_OuOgpWv1rOV1?e=download [following]\n",
            "Warning: wildcards not supported in HTTP.\n",
            "--2020-01-26 03:34:06--  https://doc-00-34-docs.googleusercontent.com/docs/securesc/ha0ro937gcuc7l7deffksulhg5h7mbp1/nk0q99prt5bog7gibotttblcg69iej73/1580004000000/05684750869889568925/*/1nN7LOW50ZpLAJ7tb6w6_OuOgpWv1rOV1?e=download\n",
            "Resolving doc-00-34-docs.googleusercontent.com (doc-00-34-docs.googleusercontent.com)... 173.194.193.132, 2607:f8b0:4001:c0f::84\n",
            "Connecting to doc-00-34-docs.googleusercontent.com (doc-00-34-docs.googleusercontent.com)|173.194.193.132|:443... connected.\n",
            "HTTP request sent, awaiting response... 200 OK\n",
            "Length: unspecified [text/csv]\n",
            "Saving to: ‘train.csv’\n",
            "\n",
            "train.csv               [    <=>             ]  72.35M  84.9MB/s    in 0.9s    \n",
            "\n",
            "2020-01-26 03:34:07 (84.9 MB/s) - ‘train.csv’ saved [75868832]\n",
            "\n"
          ],
          "name": "stdout"
        }
      ]
    },
    {
      "cell_type": "markdown",
      "metadata": {
        "id": "IPhpJqHvkA6t",
        "colab_type": "text"
      },
      "source": [
        "Here, we need to load the dataset with the following function."
      ]
    },
    {
      "cell_type": "code",
      "metadata": {
        "id": "hmEAaH4bIeww",
        "colab_type": "code",
        "colab": {}
      },
      "source": [
        "import csv\n",
        "import numpy\n",
        "\n",
        "# Constants\n",
        "TRAIN_DATA_FILE = 'train.csv'\n",
        "\n",
        "class DataLoader:\n",
        "\n",
        "    def load_train_data(self):\n",
        "        \"\"\"Load train dataset.\n",
        "        This function will create numpy array of train images and labels.\n",
        "        \"\"\"\n",
        "        images = []\n",
        "        labels = []\n",
        "\n",
        "        # Open train.csv file\n",
        "        with open(TRAIN_DATA_FILE) as train_csv:\n",
        "\n",
        "            # Read train.csv file\n",
        "            csv_reader = csv.reader(train_csv)\n",
        "            for row in csv_reader:\n",
        "\n",
        "                pixels_str = row[1]\n",
        "                pixels_list = [int(i) for i in pixels_str.split('-')]\n",
        "                pixels_list = numpy.array(pixels_list, dtype='uint8')\n",
        "                image = pixels_list.reshape((48, 48))\n",
        "\n",
        "                label = int(row[0])\n",
        "\n",
        "                images.append(image)\n",
        "                labels.append(label)\n",
        "\n",
        "        # Create numpy array of train images and labels\n",
        "        x_train = numpy.array(images)\n",
        "        y_train = numpy.array(labels)\n",
        "\n",
        "        return (x_train, y_train)"
      ],
      "execution_count": 0,
      "outputs": []
    },
    {
      "cell_type": "markdown",
      "metadata": {
        "id": "fm5kc6n32Mho",
        "colab_type": "text"
      },
      "source": [
        "Then, load the train data, and show some images."
      ]
    },
    {
      "cell_type": "code",
      "metadata": {
        "id": "NgVQkFU-2dTb",
        "colab_type": "code",
        "colab": {}
      },
      "source": [
        "# Load data\n",
        "data_loader = DataLoader()\n",
        "x_train, y_train = data_loader.load_train_data()"
      ],
      "execution_count": 0,
      "outputs": []
    },
    {
      "cell_type": "code",
      "metadata": {
        "id": "d9IKGP4W2-la",
        "colab_type": "code",
        "colab": {
          "base_uri": "https://localhost:8080/",
          "height": 335
        },
        "outputId": "39a6494d-99e0-4044-ddb0-cf05871c0ceb"
      },
      "source": [
        "import matplotlib.pyplot as plt\n",
        "%matplotlib inline\n",
        "\n",
        "print('x_train shape: {0}'.format(x_train.shape))\n",
        "print('y_train shape: {0}'.format(y_train.shape))\n",
        "\n",
        "image = x_train[0]\n",
        "label = y_train[0]\n",
        "\n",
        "print('Label is: ' + str(label))\n",
        "plt.imshow(image, cmap='gray')"
      ],
      "execution_count": 6,
      "outputs": [
        {
          "output_type": "stream",
          "text": [
            "x_train shape: (9000, 48, 48)\n",
            "y_train shape: (9000,)\n",
            "Label is: 0\n"
          ],
          "name": "stdout"
        },
        {
          "output_type": "execute_result",
          "data": {
            "text/plain": [
              "<matplotlib.image.AxesImage at 0x7f96b4f66e80>"
            ]
          },
          "metadata": {
            "tags": []
          },
          "execution_count": 6
        },
        {
          "output_type": "display_data",
          "data": {
            "image/png": "[encoded data removed]",
            "text/plain": [
              "<Figure size 432x288 with 1 Axes>"
            ]
          },
          "metadata": {
            "tags": []
          }
        }
      ]
    },
    {
      "cell_type": "markdown",
      "metadata": {
        "id": "a2jBcnecXiHf",
        "colab_type": "text"
      },
      "source": [
        "#### **Tune Hyperparameter**"
      ]
    },
    {
      "cell_type": "markdown",
      "metadata": {
        "id": "uwZvnn-MXnN1",
        "colab_type": "text"
      },
      "source": [
        "TODO"
      ]
    },
    {
      "cell_type": "markdown",
      "metadata": {
        "id": "k1C3X5NfXn9r",
        "colab_type": "text"
      },
      "source": [
        "#### **Train Data**"
      ]
    },
    {
      "cell_type": "markdown",
      "metadata": {
        "id": "nOlJvEWXXrwP",
        "colab_type": "text"
      },
      "source": [
        "TODO"
      ]
    },
    {
      "cell_type": "markdown",
      "metadata": {
        "id": "QorjdxTEXscY",
        "colab_type": "text"
      },
      "source": [
        "#### **Evaluate Model**"
      ]
    },
    {
      "cell_type": "markdown",
      "metadata": {
        "id": "-2yvodZGY5NC",
        "colab_type": "text"
      },
      "source": [
        "TODO"
      ]
    },
    {
      "cell_type": "markdown",
      "metadata": {
        "id": "rYucA-xjY6lf",
        "colab_type": "text"
      },
      "source": [
        "#### **Export Model**"
      ]
    },
    {
      "cell_type": "markdown",
      "metadata": {
        "id": "oC4iw6avY8a3",
        "colab_type": "text"
      },
      "source": [
        "TODO"
      ]
    },
    {
      "cell_type": "markdown",
      "metadata": {
        "id": "pmtmsUIkcDsp",
        "colab_type": "text"
      },
      "source": [
        "#### **Convert CoreML Model**"
      ]
    },
    {
      "cell_type": "markdown",
      "metadata": {
        "id": "2_xcuk7WcF6H",
        "colab_type": "text"
      },
      "source": [
        "TODO"
      ]
    },
    {
      "cell_type": "markdown",
      "metadata": {
        "id": "HJ8eCFwNY_xr",
        "colab_type": "text"
      },
      "source": [
        "### Part 2: Mobile Game"
      ]
    },
    {
      "cell_type": "markdown",
      "metadata": {
        "id": "Mtt_KGO7Z1bY",
        "colab_type": "text"
      },
      "source": [
        "#### **Crop ROI with OpenCV**"
      ]
    },
    {
      "cell_type": "markdown",
      "metadata": {
        "id": "TL2_nIqjbngm",
        "colab_type": "text"
      },
      "source": [
        "TODO"
      ]
    },
    {
      "cell_type": "markdown",
      "metadata": {
        "id": "XVmiDfG_b1HU",
        "colab_type": "text"
      },
      "source": [
        "#### **Predict using CoreML Model**"
      ]
    },
    {
      "cell_type": "markdown",
      "metadata": {
        "id": "VkoYt9AXb7HN",
        "colab_type": "text"
      },
      "source": [
        "TODO"
      ]
    },
    {
      "cell_type": "markdown",
      "metadata": {
        "id": "sLa776Prc5F4",
        "colab_type": "text"
      },
      "source": [
        "## Video Demonstration"
      ]
    },
    {
      "cell_type": "markdown",
      "metadata": {
        "id": "kuAKEmZldGpA",
        "colab_type": "text"
      },
      "source": [
        "TODO"
      ]
    },
    {
      "cell_type": "markdown",
      "metadata": {
        "id": "Nf1-fydpdHbP",
        "colab_type": "text"
      },
      "source": [
        "## Conclusion"
      ]
    },
    {
      "cell_type": "markdown",
      "metadata": {
        "id": "X5LZ7eledJFT",
        "colab_type": "text"
      },
      "source": [
        "TODO"
      ]
    },
    {
      "cell_type": "markdown",
      "metadata": {
        "id": "Te9vD-PsdJy7",
        "colab_type": "text"
      },
      "source": [
        "## Reference"
      ]
    },
    {
      "cell_type": "markdown",
      "metadata": {
        "id": "-3BZFJ7fdLrT",
        "colab_type": "text"
      },
      "source": [
        "TODO"
      ]
    }
  ]
}