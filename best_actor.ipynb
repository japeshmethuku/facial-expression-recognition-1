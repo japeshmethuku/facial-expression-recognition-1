{
  "nbformat": 4,
  "nbformat_minor": 0,
  "metadata": {
    "colab": {
      "name": "best_actor.ipynb",
      "provenance": [],
      "collapsed_sections": [],
      "toc_visible": true
    },
    "kernelspec": {
      "name": "python3",
      "display_name": "Python 3"
    },
    "accelerator": "GPU"
  },
  "cells": [
    {
      "cell_type": "markdown",
      "metadata": {
        "id": "YyBqkgZISsmf",
        "colab_type": "text"
      },
      "source": [
        "# Best Actor - Mobile Game about Facial Expression based on Convolutional Neural Network"
      ]
    },
    {
      "cell_type": "markdown",
      "metadata": {
        "id": "bSxCe4JnUZgt",
        "colab_type": "text"
      },
      "source": [
        "## Abstract"
      ]
    },
    {
      "cell_type": "markdown",
      "metadata": {
        "id": "lnmA_P3cVPFE",
        "colab_type": "text"
      },
      "source": [
        "TODO"
      ]
    },
    {
      "cell_type": "markdown",
      "metadata": {
        "id": "8uZzZMz2TuaT",
        "colab_type": "text"
      },
      "source": [
        "## Terminology"
      ]
    },
    {
      "cell_type": "markdown",
      "metadata": {
        "id": "Rp0XZ2zKVQqa",
        "colab_type": "text"
      },
      "source": [
        "TODO"
      ]
    },
    {
      "cell_type": "markdown",
      "metadata": {
        "id": "9diS26hMZtGb",
        "colab_type": "text"
      },
      "source": [
        "## UI & UX Design"
      ]
    },
    {
      "cell_type": "markdown",
      "metadata": {
        "id": "90C9c0FvZvi4",
        "colab_type": "text"
      },
      "source": [
        "TODO"
      ]
    },
    {
      "cell_type": "markdown",
      "metadata": {
        "id": "hqdF7trTVH72",
        "colab_type": "text"
      },
      "source": [
        "## Technical Design"
      ]
    },
    {
      "cell_type": "markdown",
      "metadata": {
        "id": "Z1KYc1HNVOjX",
        "colab_type": "text"
      },
      "source": [
        "TODO"
      ]
    },
    {
      "cell_type": "markdown",
      "metadata": {
        "id": "JFtLSjWSVSvR",
        "colab_type": "text"
      },
      "source": [
        "## Code Implementation"
      ]
    },
    {
      "cell_type": "markdown",
      "metadata": {
        "id": "KvSr_4aaZEvB",
        "colab_type": "text"
      },
      "source": [
        "### Part 1: Computer Vision"
      ]
    },
    {
      "cell_type": "markdown",
      "metadata": {
        "id": "E3G_H9tDXYtE",
        "colab_type": "text"
      },
      "source": [
        "#### **Preprocess Data**"
      ]
    },
    {
      "cell_type": "markdown",
      "metadata": {
        "id": "P-vF1AWBXboW",
        "colab_type": "text"
      },
      "source": [
        "First and foremost, we need to preprocess the dataset. Here I use **FER2013** dataset for the facial expression recognition, which contains 7 categories in total, including (1) Angry, (2) Disgust, (3) Fear, (4) Happy, (5) Neutral, (6) Sad and (7) Surprise. The examples of FER2013 dataset are illustrated as follows."
      ]
    },
    {
      "cell_type": "markdown",
      "metadata": {
        "id": "ACQAlEIbqM6c",
        "colab_type": "text"
      },
      "source": [
        "![Facial Expressions](https://drive.google.com/uc?id=11VQZQZLD0_GwkcR4vUWTNtBdbbZS0Dh7)"
      ]
    },
    {
      "cell_type": "markdown",
      "metadata": {
        "id": "pgV6jxk5yyxb",
        "colab_type": "text"
      },
      "source": [
        "The dataset has the following advantages:\n",
        "- It contains dataset with various ages\n",
        "![age](https://drive.google.com/uc?id=1mUcafNru8bb6pn-6xFkW74qIQVpI9Jyh)\n",
        "- It contains dataset with different ethics\n",
        "![ethic](https://drive.google.com/uc?id=1bZf1BR-fVZvnHmlgT-ZDbJKRQULxfOJ7)\n",
        "- It contains dataset with accessories\n",
        "![accessory](https://drive.google.com/uc?id=1xmEbRDzKBeDRpGa63hGH-kIBOGMXMJJp)"
      ]
    },
    {
      "cell_type": "markdown",
      "metadata": {
        "id": "J-CGU0qRLzMB",
        "colab_type": "text"
      },
      "source": [
        "However, the dataset also has the following disadvantages:\n",
        "- Some images have watermark, which might have potential copyright issue\n",
        "![watermark](https://drive.google.com/uc?id=142nfQZ3a1hMdFhQIr2-V3wmxBEvYFDhz)\n",
        "- Some images are cartoon characters\n",
        "![cartoon](https://drive.google.com/uc?id=1UTUDU5ac8aTcfR9O7WTqDUkGgj-1RfkJ)\n",
        "- Some images have inconsistent facial expressions and labels. For example, the following facial expressions are marked as \"Happy\" in FER2013 dataset, which are apparently not \"Happy\" facial expressions\n",
        "![inconsistent](https://drive.google.com/uc?id=1Gu0SNL7B3uoQ7TEmv1LRe3-97NCET9iX)\n",
        "- Some images are broken and have no facial expressions\n",
        "![non-people](https://drive.google.com/uc?id=1sbeWG41IOot29GOY6iCAwRQPG71-Euhk)\n",
        "- Some images have multiple faces\n",
        "![many](https://drive.google.com/uc?id=1l8PPTBHb7BPS7LukOAdVV0yM1ZaBSAlQ)"
      ]
    },
    {
      "cell_type": "markdown",
      "metadata": {
        "id": "ViD-C3huB--E",
        "colab_type": "text"
      },
      "source": [
        "Therefore, I preprocessed the dataset by removing ineligible images. Then, I created the preprocessed \"train.csv\" with the following function.\n",
        "```python\n",
        "from PIL import Image\n",
        "import os\n",
        "import imghdr\n",
        "import numpy\n",
        "import csv\n",
        "\n",
        "# Constants\n",
        "TRAINING_DATA_DIRECTORY = 'TrainingDataSelected/'\n",
        "TRAIN_CSV_FILE = 'train.csv'\n",
        "TRAIN_CSV_WRITE_MODE = 'w'\n",
        "TRAIN_DATA_IMAGE_TYPE = 'jpeg'\n",
        "\n",
        "FACIAL_EXPRESSION_LABELS = {\n",
        "    'Happy': '0',\n",
        "    'Sad': '1',\n",
        "    'Surprise': '2'\n",
        "}\n",
        "\n",
        "class Preprocessor:\n",
        "\n",
        "    def preprocess_data(self):\n",
        "        \"\"\"Preprocess facial expression dataset.\n",
        "        This function will save training data to train.csv in the directory.\n",
        "        train.csv contains two columns:\n",
        "        - Facial expression label\n",
        "        - Numpy array of facial expression image file (48 x 48)\n",
        "        \"\"\"\n",
        "        with open(TRAIN_CSV_FILE, mode=TRAIN_CSV_WRITE_MODE) as train:\n",
        "\n",
        "            # Create train writer\n",
        "            train_writer = csv.writer(train)\n",
        "\n",
        "            # Iterate through training image data\n",
        "            with os.scandir(TRAINING_DATA_DIRECTORY) as entries:\n",
        "\n",
        "                for entry in entries:\n",
        "                    path = entry.path\n",
        "                    file_type = imghdr.what(path)\n",
        "\n",
        "                    if file_type == TRAIN_DATA_IMAGE_TYPE:\n",
        "\n",
        "                        # Label\n",
        "                        name = entry.name\n",
        "                        facial_expression_name = name.split('_')[0]\n",
        "                        label = FACIAL_EXPRESSION_LABELS[facial_expression_name]\n",
        "\n",
        "                        # Image file\n",
        "                        image_file = Image.open(path)\n",
        "                        image = numpy.array(image_file)\n",
        "                        pixels = '-'.join(map(str, image.flat))\n",
        "\n",
        "                        # Write to CSV file\n",
        "                        row = [label, pixels]\n",
        "                        train_writer.writerow(row)\n",
        "\n",
        "# Preprocess data\n",
        "preprocessor = Preprocessor()\n",
        "preprocessor.preprocess_data()\n",
        "```"
      ]
    },
    {
      "cell_type": "markdown",
      "metadata": {
        "id": "9CfhEZQlXcwx",
        "colab_type": "text"
      },
      "source": [
        "#### **Load Data**"
      ]
    },
    {
      "cell_type": "markdown",
      "metadata": {
        "id": "jzGTHa1_XeyV",
        "colab_type": "text"
      },
      "source": [
        "After preprocessed the data, the \"train.csv\" has been uploaded to Google Drive. Then, use the following function to download the dataset."
      ]
    },
    {
      "cell_type": "code",
      "metadata": {
        "id": "fb657GXgjctt",
        "colab_type": "code",
        "colab": {}
      },
      "source": [
        "!wget --no-check-certificate 'https://docs.google.com/uc?export=download&id=1nN7LOW50ZpLAJ7tb6w6_OuOgpWv1rOV1' -O train.csv > /dev/null 2>&1"
      ],
      "execution_count": 0,
      "outputs": []
    },
    {
      "cell_type": "markdown",
      "metadata": {
        "id": "IPhpJqHvkA6t",
        "colab_type": "text"
      },
      "source": [
        "Here, we need to load the dataset with the following function."
      ]
    },
    {
      "cell_type": "code",
      "metadata": {
        "id": "hmEAaH4bIeww",
        "colab_type": "code",
        "colab": {}
      },
      "source": [
        "import csv\n",
        "import numpy\n",
        "\n",
        "# Constants\n",
        "TRAIN_DATA_FILE = 'train.csv'\n",
        "\n",
        "class DataLoader:\n",
        "\n",
        "    def load_train_data(self):\n",
        "        \"\"\"Load train dataset.\n",
        "        This function will create numpy array of train images and labels.\n",
        "        \"\"\"\n",
        "        images = []\n",
        "        labels = []\n",
        "\n",
        "        # Open train.csv file\n",
        "        with open(TRAIN_DATA_FILE) as train_csv:\n",
        "\n",
        "            # Read train.csv file\n",
        "            csv_reader = csv.reader(train_csv)\n",
        "            for row in csv_reader:\n",
        "\n",
        "                pixels_str = row[1]\n",
        "                pixels_list = [int(i) for i in pixels_str.split('-')]\n",
        "                pixels_list = numpy.array(pixels_list, dtype='uint8')\n",
        "                image = pixels_list.reshape((48, 48))\n",
        "\n",
        "                label = int(row[0])\n",
        "\n",
        "                images.append(image)\n",
        "                labels.append(label)\n",
        "\n",
        "        # Create numpy array of train images and labels\n",
        "        x_train = numpy.array(images)\n",
        "        y_train = numpy.array(labels)\n",
        "\n",
        "        return (x_train, y_train)"
      ],
      "execution_count": 0,
      "outputs": []
    },
    {
      "cell_type": "markdown",
      "metadata": {
        "id": "fm5kc6n32Mho",
        "colab_type": "text"
      },
      "source": [
        "Then, load the train data."
      ]
    },
    {
      "cell_type": "code",
      "metadata": {
        "id": "NgVQkFU-2dTb",
        "colab_type": "code",
        "colab": {}
      },
      "source": [
        "# Load data\n",
        "data_loader = DataLoader()\n",
        "x_train, y_train = data_loader.load_train_data()"
      ],
      "execution_count": 0,
      "outputs": []
    },
    {
      "cell_type": "markdown",
      "metadata": {
        "id": "NG7lseM1UCQx",
        "colab_type": "text"
      },
      "source": [
        "And show one of the training images."
      ]
    },
    {
      "cell_type": "code",
      "metadata": {
        "id": "d9IKGP4W2-la",
        "colab_type": "code",
        "outputId": "65547ac9-71e4-49b3-8cef-4eb990df5c1a",
        "colab": {
          "base_uri": "https://localhost:8080/",
          "height": 335
        }
      },
      "source": [
        "import matplotlib.pyplot as plt\n",
        "%matplotlib inline\n",
        "\n",
        "print('x_train shape: {0}'.format(x_train.shape))\n",
        "print('y_train shape: {0}'.format(y_train.shape))\n",
        "\n",
        "image = x_train[0]\n",
        "label = y_train[0]\n",
        "\n",
        "print('Label is: ' + str(label))\n",
        "plt.imshow(image, cmap='gray')"
      ],
      "execution_count": 4,
      "outputs": [
        {
          "output_type": "stream",
          "text": [
            "x_train shape: (9000, 48, 48)\n",
            "y_train shape: (9000,)\n",
            "Label is: 0\n"
          ],
          "name": "stdout"
        },
        {
          "output_type": "execute_result",
          "data": {
            "text/plain": [
              "<matplotlib.image.AxesImage at 0x7f16112135f8>"
            ]
          },
          "metadata": {
            "tags": []
          },
          "execution_count": 4
        },
        {
          "output_type": "display_data",
          "data": {
            "image/png": "[encoded data removed]",
            "text/plain": [
              "<Figure size 432x288 with 1 Axes>"
            ]
          },
          "metadata": {
            "tags": []
          }
        }
      ]
    },
    {
      "cell_type": "markdown",
      "metadata": {
        "id": "a2jBcnecXiHf",
        "colab_type": "text"
      },
      "source": [
        "#### **Tune Hyperparameter**"
      ]
    },
    {
      "cell_type": "markdown",
      "metadata": {
        "id": "uwZvnn-MXnN1",
        "colab_type": "text"
      },
      "source": [
        "Then I use **Keras Tuner** to adjust hyperparameters of the model.\n",
        "\n",
        "First of all, we need to install the Keras Tuner package."
      ]
    },
    {
      "cell_type": "code",
      "metadata": {
        "id": "iUfwRb849Sqz",
        "colab_type": "code",
        "colab": {}
      },
      "source": [
        "!pip install -U keras-tuner > /dev/null 2>&1"
      ],
      "execution_count": 0,
      "outputs": []
    },
    {
      "cell_type": "markdown",
      "metadata": {
        "id": "nR9cR0DOGYp-",
        "colab_type": "text"
      },
      "source": [
        "Then, create the model to tune hyperparameter with the following functions."
      ]
    },
    {
      "cell_type": "code",
      "metadata": {
        "id": "FF4gVcdqSXwy",
        "colab_type": "code",
        "outputId": "a2612512-7f39-4ed8-9bbc-01b0c756904e",
        "colab": {
          "base_uri": "https://localhost:8080/",
          "height": 51
        }
      },
      "source": [
        "%tensorflow_version 2.x\n",
        "import tensorflow as tf\n",
        "from tensorflow import keras\n",
        "from tensorflow.keras.models import Sequential\n",
        "from tensorflow.keras.layers import Conv2D, MaxPooling2D, Dense, Dropout, Flatten, Activation\n",
        "from kerastuner import HyperModel\n",
        "\n",
        "print('TensorFlow version: {}'.format(tf.__version__))\n",
        "\n",
        "class TunerHyperModel(HyperModel):\n",
        "\n",
        "    def __init__(self,\n",
        "                 input_shape,\n",
        "                 output_filters,\n",
        "                 min_conv_filters, \n",
        "                 max_conv_filters, \n",
        "                 conv_filters_steps, \n",
        "                 min_conv_layers,\n",
        "                 max_conv_layers,\n",
        "                 kernal_size=(3, 3)):\n",
        "        \"\"\"Initialize tuner hyper model class\"\"\"\n",
        "        self.input_shape = input_shape # Input dimension shape\n",
        "        self.output_filters = output_filters # Output how many categories\n",
        "        self.min_conv_filters = min_conv_filters # Minimum convolutionary filters\n",
        "        self.max_conv_filters = max_conv_filters # Maximum convolutionary filters\n",
        "        self.conv_filters_steps = conv_filters_steps # Increasig steps\n",
        "        self.min_conv_layers = min_conv_layers # Minimum convolutionary layers\n",
        "        self.max_conv_layers = max_conv_layers # Maximum convolutionary layers\n",
        "        self.kernal_size = kernal_size # Kernal size of convolutionary layer\n",
        "\n",
        "    def build(self, hp):\n",
        "        \"\"\"Build hyper model to tune hyperparameter\"\"\"\n",
        "        model = Sequential()\n",
        "        \n",
        "        # Add the first convolutionary layer with input shape\n",
        "        model.add(Conv2D(hp.Int('input_units',\n",
        "                                min_value=self.min_conv_filters,\n",
        "                                max_value=self.max_conv_filters,\n",
        "                                step=self.conv_filters_steps), \n",
        "                         kernel_size=self.kernal_size, \n",
        "                         input_shape=self.input_shape))\n",
        "        model.add(Activation('relu'))\n",
        "        model.add(MaxPooling2D())\n",
        "        model.add(Dropout(hp.Choice('dropout',\n",
        "                                    values=[0.3, 0.5])))\n",
        "\n",
        "        # Add the variants of convolutionary layers\n",
        "        for i in range(hp.Int('n_layers', self.min_conv_layers, self.max_conv_layers)):\n",
        "            model.add(Conv2D(hp.Int(f'conv_{i}_units',\n",
        "                                    min_value=self.min_conv_filters,\n",
        "                                    max_value=self.max_conv_filters,\n",
        "                                    step=self.conv_filters_steps),\n",
        "                             kernel_size=self.kernal_size))\n",
        "            model.add(Activation('relu'))\n",
        "            model.add(MaxPooling2D())\n",
        "            model.add(Dropout(hp.Choice('dropout',\n",
        "                                    values=[0.3, 0.5])))\n",
        "\n",
        "        # Add the final output layer\n",
        "        model.add(Flatten()) \n",
        "        model.add(Dense(self.output_filters))\n",
        "        model.add(Activation(\"softmax\"))\n",
        "\n",
        "        # Compile the model\n",
        "        model.compile(optimizer='adam',\n",
        "                    loss='sparse_categorical_crossentropy',\n",
        "                    # metrics=['acc']) // tf 1.x\n",
        "                    metrics=['accuracy'])\n",
        "        \n",
        "        return model"
      ],
      "execution_count": 6,
      "outputs": [
        {
          "output_type": "stream",
          "text": [
            "TensorFlow 2.x selected.\n",
            "TensorFlow version: 2.1.0\n"
          ],
          "name": "stdout"
        }
      ]
    },
    {
      "cell_type": "markdown",
      "metadata": {
        "id": "fTGXda-wsIht",
        "colab_type": "text"
      },
      "source": [
        "Create folder with the output details when tuning the hyperparameter."
      ]
    },
    {
      "cell_type": "code",
      "metadata": {
        "id": "YYLWY_3pBagM",
        "colab_type": "code",
        "outputId": "304ac0aa-a459-45d8-fa00-4b07df7e96ef",
        "colab": {
          "base_uri": "https://localhost:8080/",
          "height": 34
        }
      },
      "source": [
        "from google.colab import drive\n",
        "import os\n",
        "\n",
        "os.chdir('/content/')\n",
        "\n",
        "!pwd\n",
        "!rm -rf ./hparams\n",
        "\n",
        "OUTPUT_DIR = './hparams/'\n",
        "os.makedirs(OUTPUT_DIR)"
      ],
      "execution_count": 7,
      "outputs": [
        {
          "output_type": "stream",
          "text": [
            "/content\n"
          ],
          "name": "stdout"
        }
      ]
    },
    {
      "cell_type": "markdown",
      "metadata": {
        "id": "ci_7roAQdiCJ",
        "colab_type": "text"
      },
      "source": [
        "Now we create the train dataset and test dataset, and tune the hyperparameter. Here I use **Hyper Band** and **Early Stopping** to tune the hyperparameter."
      ]
    },
    {
      "cell_type": "code",
      "metadata": {
        "id": "mhKlMATNjYgi",
        "colab_type": "code",
        "outputId": "5442de29-e504-4ec6-911f-50717612eeb4",
        "colab": {
          "base_uri": "https://localhost:8080/",
          "height": 1000
        }
      },
      "source": [
        "from kerastuner.tuners import Hyperband\n",
        "from sklearn.model_selection import train_test_split\n",
        "from tensorflow.keras.callbacks import EarlyStopping\n",
        "\n",
        "# Constants\n",
        "INPUT_SHAPE = (48, 48, 1)\n",
        "OUTPUT_FILTERS = 3\n",
        "\n",
        "MIN_CONV_FILTERS = 32\n",
        "MAX_CONV_FILTERS = 128\n",
        "CONV_FILTERS_STEPS = 32\n",
        "MIN_CONV_LAYERS = 1\n",
        "MAX_CONV_LAYERS = 2\n",
        "\n",
        "HYPERPARAMETER_EPOCHS = 6\n",
        "MAX_EPOCHS = 6\n",
        "# OBJECTIVE_VAL_ACCURACY = 'val_acc' // tf 1.x\n",
        "OBJECTIVE_VAL_ACCURACY = 'val_accuracy'\n",
        "PROJECT_NAME = 'BestActor'\n",
        "\n",
        "# Split dataset into 80% for train and 20% for test\n",
        "hp_x_train, hp_x_test, hp_y_train, hp_y_test = train_test_split(x_train, y_train, test_size=0.2)\n",
        "hp_x_train, hp_x_test = hp_x_train / 255.0, hp_x_test / 255.0\n",
        "\n",
        "hp_x_train = hp_x_train.reshape(len(hp_x_train), 48, 48, 1)\n",
        "hp_x_test = hp_x_test.reshape(len(hp_x_test), 48, 48, 1)\n",
        "\n",
        "print(hp_x_train.shape)\n",
        "print(hp_x_test.shape)\n",
        "\n",
        "# Create tuner hyper model\n",
        "tuner_model = TunerHyperModel(INPUT_SHAPE, OUTPUT_FILTERS,\n",
        "                              MIN_CONV_FILTERS, MAX_CONV_FILTERS, CONV_FILTERS_STEPS,\n",
        "                              MIN_CONV_LAYERS, MAX_CONV_LAYERS)\n",
        "\n",
        "# Create using hyper band\n",
        "tuner = Hyperband(tuner_model, \n",
        "                  objective=OBJECTIVE_VAL_ACCURACY,\n",
        "                  max_epochs=HYPERPARAMETER_EPOCHS,\n",
        "                  directory=OUTPUT_DIR,\n",
        "                  project_name=PROJECT_NAME)\n",
        "\n",
        "# Summary tuner\n",
        "tuner.search_space_summary()\n",
        "\n",
        "# Fine tune hyperparameter\n",
        "tuner.search(x=hp_x_train,\n",
        "             y=hp_y_train,\n",
        "             epochs=MAX_EPOCHS,\n",
        "             verbose=0,\n",
        "             validation_data=(hp_x_test, hp_y_test),\n",
        "             callbacks=[EarlyStopping(patience=3)]) # Early stopping strategy"
      ],
      "execution_count": 8,
      "outputs": [
        {
          "output_type": "stream",
          "text": [
            "(7200, 48, 48, 1)\n",
            "(1800, 48, 48, 1)\n"
          ],
          "name": "stdout"
        },
        {
          "output_type": "display_data",
          "data": {
            "text/html": [
              "<span style=\"color:#4527A0\"><h1 style=\"font-size:18px\">Search space summary</h1></span>"
            ],
            "text/plain": [
              "<IPython.core.display.HTML object>"
            ]
          },
          "metadata": {
            "tags": []
          }
        },
        {
          "output_type": "display_data",
          "data": {
            "text/html": [
              "<span style=\"color:cyan\"> |-Default search space size: 4</span>"
            ],
            "text/plain": [
              "<IPython.core.display.HTML object>"
            ]
          },
          "metadata": {
            "tags": []
          }
        },
        {
          "output_type": "display_data",
          "data": {
            "text/html": [
              "<span style=\"color:#7E57C2\"><h2 style=\"font-size:16px\">input_units (Int)</h2></span>"
            ],
            "text/plain": [
              "<IPython.core.display.HTML object>"
            ]
          },
          "metadata": {
            "tags": []
          }
        },
        {
          "output_type": "display_data",
          "data": {
            "text/html": [
              "<span style=\"color:cyan\"> |-default: None</span>"
            ],
            "text/plain": [
              "<IPython.core.display.HTML object>"
            ]
          },
          "metadata": {
            "tags": []
          }
        },
        {
          "output_type": "display_data",
          "data": {
            "text/html": [
              "<span style=\"color:blue\"> |-max_value: 128</span>"
            ],
            "text/plain": [
              "<IPython.core.display.HTML object>"
            ]
          },
          "metadata": {
            "tags": []
          }
        },
        {
          "output_type": "display_data",
          "data": {
            "text/html": [
              "<span style=\"color:cyan\"> |-min_value: 32</span>"
            ],
            "text/plain": [
              "<IPython.core.display.HTML object>"
            ]
          },
          "metadata": {
            "tags": []
          }
        },
        {
          "output_type": "display_data",
          "data": {
            "text/html": [
              "<span style=\"color:blue\"> |-sampling: None</span>"
            ],
            "text/plain": [
              "<IPython.core.display.HTML object>"
            ]
          },
          "metadata": {
            "tags": []
          }
        },
        {
          "output_type": "display_data",
          "data": {
            "text/html": [
              "<span style=\"color:cyan\"> |-step: 32</span>"
            ],
            "text/plain": [
              "<IPython.core.display.HTML object>"
            ]
          },
          "metadata": {
            "tags": []
          }
        },
        {
          "output_type": "display_data",
          "data": {
            "text/html": [
              "<span style=\"color:#7E57C2\"><h2 style=\"font-size:16px\">dropout (Choice)</h2></span>"
            ],
            "text/plain": [
              "<IPython.core.display.HTML object>"
            ]
          },
          "metadata": {
            "tags": []
          }
        },
        {
          "output_type": "display_data",
          "data": {
            "text/html": [
              "<span style=\"color:cyan\"> |-default: 0.3</span>"
            ],
            "text/plain": [
              "<IPython.core.display.HTML object>"
            ]
          },
          "metadata": {
            "tags": []
          }
        },
        {
          "output_type": "display_data",
          "data": {
            "text/html": [
              "<span style=\"color:blue\"> |-ordered: True</span>"
            ],
            "text/plain": [
              "<IPython.core.display.HTML object>"
            ]
          },
          "metadata": {
            "tags": []
          }
        },
        {
          "output_type": "display_data",
          "data": {
            "text/html": [
              "<span style=\"color:cyan\"> |-values: [0.3, 0.5]</span>"
            ],
            "text/plain": [
              "<IPython.core.display.HTML object>"
            ]
          },
          "metadata": {
            "tags": []
          }
        },
        {
          "output_type": "display_data",
          "data": {
            "text/html": [
              "<span style=\"color:#7E57C2\"><h2 style=\"font-size:16px\">n_layers (Int)</h2></span>"
            ],
            "text/plain": [
              "<IPython.core.display.HTML object>"
            ]
          },
          "metadata": {
            "tags": []
          }
        },
        {
          "output_type": "display_data",
          "data": {
            "text/html": [
              "<span style=\"color:cyan\"> |-default: None</span>"
            ],
            "text/plain": [
              "<IPython.core.display.HTML object>"
            ]
          },
          "metadata": {
            "tags": []
          }
        },
        {
          "output_type": "display_data",
          "data": {
            "text/html": [
              "<span style=\"color:blue\"> |-max_value: 2</span>"
            ],
            "text/plain": [
              "<IPython.core.display.HTML object>"
            ]
          },
          "metadata": {
            "tags": []
          }
        },
        {
          "output_type": "display_data",
          "data": {
            "text/html": [
              "<span style=\"color:cyan\"> |-min_value: 1</span>"
            ],
            "text/plain": [
              "<IPython.core.display.HTML object>"
            ]
          },
          "metadata": {
            "tags": []
          }
        },
        {
          "output_type": "display_data",
          "data": {
            "text/html": [
              "<span style=\"color:blue\"> |-sampling: None</span>"
            ],
            "text/plain": [
              "<IPython.core.display.HTML object>"
            ]
          },
          "metadata": {
            "tags": []
          }
        },
        {
          "output_type": "display_data",
          "data": {
            "text/html": [
              "<span style=\"color:cyan\"> |-step: 1</span>"
            ],
            "text/plain": [
              "<IPython.core.display.HTML object>"
            ]
          },
          "metadata": {
            "tags": []
          }
        },
        {
          "output_type": "display_data",
          "data": {
            "text/html": [
              "<span style=\"color:#7E57C2\"><h2 style=\"font-size:16px\">conv_0_units (Int)</h2></span>"
            ],
            "text/plain": [
              "<IPython.core.display.HTML object>"
            ]
          },
          "metadata": {
            "tags": []
          }
        },
        {
          "output_type": "display_data",
          "data": {
            "text/html": [
              "<span style=\"color:cyan\"> |-default: None</span>"
            ],
            "text/plain": [
              "<IPython.core.display.HTML object>"
            ]
          },
          "metadata": {
            "tags": []
          }
        },
        {
          "output_type": "display_data",
          "data": {
            "text/html": [
              "<span style=\"color:blue\"> |-max_value: 128</span>"
            ],
            "text/plain": [
              "<IPython.core.display.HTML object>"
            ]
          },
          "metadata": {
            "tags": []
          }
        },
        {
          "output_type": "display_data",
          "data": {
            "text/html": [
              "<span style=\"color:cyan\"> |-min_value: 32</span>"
            ],
            "text/plain": [
              "<IPython.core.display.HTML object>"
            ]
          },
          "metadata": {
            "tags": []
          }
        },
        {
          "output_type": "display_data",
          "data": {
            "text/html": [
              "<span style=\"color:blue\"> |-sampling: None</span>"
            ],
            "text/plain": [
              "<IPython.core.display.HTML object>"
            ]
          },
          "metadata": {
            "tags": []
          }
        },
        {
          "output_type": "display_data",
          "data": {
            "text/html": [
              "<span style=\"color:cyan\"> |-step: 32</span>"
            ],
            "text/plain": [
              "<IPython.core.display.HTML object>"
            ]
          },
          "metadata": {
            "tags": []
          }
        },
        {
          "output_type": "display_data",
          "data": {
            "text/html": [
              "<span style=\"color:#4527A0\"><h1 style=\"font-size:18px\">Trial complete</h1></span>"
            ],
            "text/plain": [
              "<IPython.core.display.HTML object>"
            ]
          },
          "metadata": {
            "tags": []
          }
        },
        {
          "output_type": "display_data",
          "data": {
            "text/html": [
              "<span style=\"color:#4527A0\"><h1 style=\"font-size:18px\">Trial summary</h1></span>"
            ],
            "text/plain": [
              "<IPython.core.display.HTML object>"
            ]
          },
          "metadata": {
            "tags": []
          }
        },
        {
          "output_type": "display_data",
          "data": {
            "text/html": [
              "<span style=\"color:cyan\"> |-Trial ID: 6f50c3849d085787c383d110095fa72b</span>"
            ],
            "text/plain": [
              "<IPython.core.display.HTML object>"
            ]
          },
          "metadata": {
            "tags": []
          }
        },
        {
          "output_type": "display_data",
          "data": {
            "text/html": [
              "<span style=\"color:cyan\"> |-Score: 0.7127777934074402</span>"
            ],
            "text/plain": [
              "<IPython.core.display.HTML object>"
            ]
          },
          "metadata": {
            "tags": []
          }
        },
        {
          "output_type": "display_data",
          "data": {
            "text/html": [
              "<span style=\"color:cyan\"> |-Best step: 0</span>"
            ],
            "text/plain": [
              "<IPython.core.display.HTML object>"
            ]
          },
          "metadata": {
            "tags": []
          }
        },
        {
          "output_type": "display_data",
          "data": {
            "text/html": [
              "<span style=\"color:#7E57C2\"><h2 style=\"font-size:16px\">Hyperparameters:</h2></span>"
            ],
            "text/plain": [
              "<IPython.core.display.HTML object>"
            ]
          },
          "metadata": {
            "tags": []
          }
        },
        {
          "output_type": "display_data",
          "data": {
            "text/html": [
              "<span style=\"color:cyan\"> |-conv_0_units: 128</span>"
            ],
            "text/plain": [
              "<IPython.core.display.HTML object>"
            ]
          },
          "metadata": {
            "tags": []
          }
        },
        {
          "output_type": "display_data",
          "data": {
            "text/html": [
              "<span style=\"color:blue\"> |-dropout: 0.5</span>"
            ],
            "text/plain": [
              "<IPython.core.display.HTML object>"
            ]
          },
          "metadata": {
            "tags": []
          }
        },
        {
          "output_type": "display_data",
          "data": {
            "text/html": [
              "<span style=\"color:cyan\"> |-input_units: 128</span>"
            ],
            "text/plain": [
              "<IPython.core.display.HTML object>"
            ]
          },
          "metadata": {
            "tags": []
          }
        },
        {
          "output_type": "display_data",
          "data": {
            "text/html": [
              "<span style=\"color:blue\"> |-n_layers: 1</span>"
            ],
            "text/plain": [
              "<IPython.core.display.HTML object>"
            ]
          },
          "metadata": {
            "tags": []
          }
        },
        {
          "output_type": "display_data",
          "data": {
            "text/html": [
              "<span style=\"color:cyan\"> |-tuner/bracket: 1</span>"
            ],
            "text/plain": [
              "<IPython.core.display.HTML object>"
            ]
          },
          "metadata": {
            "tags": []
          }
        },
        {
          "output_type": "display_data",
          "data": {
            "text/html": [
              "<span style=\"color:blue\"> |-tuner/epochs: 2</span>"
            ],
            "text/plain": [
              "<IPython.core.display.HTML object>"
            ]
          },
          "metadata": {
            "tags": []
          }
        },
        {
          "output_type": "display_data",
          "data": {
            "text/html": [
              "<span style=\"color:cyan\"> |-tuner/initial_epoch: 0</span>"
            ],
            "text/plain": [
              "<IPython.core.display.HTML object>"
            ]
          },
          "metadata": {
            "tags": []
          }
        },
        {
          "output_type": "display_data",
          "data": {
            "text/html": [
              "<span style=\"color:blue\"> |-tuner/round: 0</span>"
            ],
            "text/plain": [
              "<IPython.core.display.HTML object>"
            ]
          },
          "metadata": {
            "tags": []
          }
        },
        {
          "output_type": "display_data",
          "data": {
            "text/html": [
              "<span style=\"color:#4527A0\"><h1 style=\"font-size:18px\">Trial complete</h1></span>"
            ],
            "text/plain": [
              "<IPython.core.display.HTML object>"
            ]
          },
          "metadata": {
            "tags": []
          }
        },
        {
          "output_type": "display_data",
          "data": {
            "text/html": [
              "<span style=\"color:#4527A0\"><h1 style=\"font-size:18px\">Trial summary</h1></span>"
            ],
            "text/plain": [
              "<IPython.core.display.HTML object>"
            ]
          },
          "metadata": {
            "tags": []
          }
        },
        {
          "output_type": "display_data",
          "data": {
            "text/html": [
              "<span style=\"color:cyan\"> |-Trial ID: 678058afd32859fda25f07947d33a900</span>"
            ],
            "text/plain": [
              "<IPython.core.display.HTML object>"
            ]
          },
          "metadata": {
            "tags": []
          }
        },
        {
          "output_type": "display_data",
          "data": {
            "text/html": [
              "<span style=\"color:cyan\"> |-Score: 0.7022222280502319</span>"
            ],
            "text/plain": [
              "<IPython.core.display.HTML object>"
            ]
          },
          "metadata": {
            "tags": []
          }
        },
        {
          "output_type": "display_data",
          "data": {
            "text/html": [
              "<span style=\"color:cyan\"> |-Best step: 0</span>"
            ],
            "text/plain": [
              "<IPython.core.display.HTML object>"
            ]
          },
          "metadata": {
            "tags": []
          }
        },
        {
          "output_type": "display_data",
          "data": {
            "text/html": [
              "<span style=\"color:#7E57C2\"><h2 style=\"font-size:16px\">Hyperparameters:</h2></span>"
            ],
            "text/plain": [
              "<IPython.core.display.HTML object>"
            ]
          },
          "metadata": {
            "tags": []
          }
        },
        {
          "output_type": "display_data",
          "data": {
            "text/html": [
              "<span style=\"color:cyan\"> |-conv_0_units: 96</span>"
            ],
            "text/plain": [
              "<IPython.core.display.HTML object>"
            ]
          },
          "metadata": {
            "tags": []
          }
        },
        {
          "output_type": "display_data",
          "data": {
            "text/html": [
              "<span style=\"color:blue\"> |-dropout: 0.3</span>"
            ],
            "text/plain": [
              "<IPython.core.display.HTML object>"
            ]
          },
          "metadata": {
            "tags": []
          }
        },
        {
          "output_type": "display_data",
          "data": {
            "text/html": [
              "<span style=\"color:cyan\"> |-input_units: 64</span>"
            ],
            "text/plain": [
              "<IPython.core.display.HTML object>"
            ]
          },
          "metadata": {
            "tags": []
          }
        },
        {
          "output_type": "display_data",
          "data": {
            "text/html": [
              "<span style=\"color:blue\"> |-n_layers: 1</span>"
            ],
            "text/plain": [
              "<IPython.core.display.HTML object>"
            ]
          },
          "metadata": {
            "tags": []
          }
        },
        {
          "output_type": "display_data",
          "data": {
            "text/html": [
              "<span style=\"color:cyan\"> |-tuner/bracket: 1</span>"
            ],
            "text/plain": [
              "<IPython.core.display.HTML object>"
            ]
          },
          "metadata": {
            "tags": []
          }
        },
        {
          "output_type": "display_data",
          "data": {
            "text/html": [
              "<span style=\"color:blue\"> |-tuner/epochs: 2</span>"
            ],
            "text/plain": [
              "<IPython.core.display.HTML object>"
            ]
          },
          "metadata": {
            "tags": []
          }
        },
        {
          "output_type": "display_data",
          "data": {
            "text/html": [
              "<span style=\"color:cyan\"> |-tuner/initial_epoch: 0</span>"
            ],
            "text/plain": [
              "<IPython.core.display.HTML object>"
            ]
          },
          "metadata": {
            "tags": []
          }
        },
        {
          "output_type": "display_data",
          "data": {
            "text/html": [
              "<span style=\"color:blue\"> |-tuner/round: 0</span>"
            ],
            "text/plain": [
              "<IPython.core.display.HTML object>"
            ]
          },
          "metadata": {
            "tags": []
          }
        },
        {
          "output_type": "display_data",
          "data": {
            "text/html": [
              "<span style=\"color:#4527A0\"><h1 style=\"font-size:18px\">Trial complete</h1></span>"
            ],
            "text/plain": [
              "<IPython.core.display.HTML object>"
            ]
          },
          "metadata": {
            "tags": []
          }
        },
        {
          "output_type": "display_data",
          "data": {
            "text/html": [
              "<span style=\"color:#4527A0\"><h1 style=\"font-size:18px\">Trial summary</h1></span>"
            ],
            "text/plain": [
              "<IPython.core.display.HTML object>"
            ]
          },
          "metadata": {
            "tags": []
          }
        },
        {
          "output_type": "display_data",
          "data": {
            "text/html": [
              "<span style=\"color:cyan\"> |-Trial ID: 19353eb04b545915ec569bada87c4e84</span>"
            ],
            "text/plain": [
              "<IPython.core.display.HTML object>"
            ]
          },
          "metadata": {
            "tags": []
          }
        },
        {
          "output_type": "display_data",
          "data": {
            "text/html": [
              "<span style=\"color:cyan\"> |-Score: 0.6822222471237183</span>"
            ],
            "text/plain": [
              "<IPython.core.display.HTML object>"
            ]
          },
          "metadata": {
            "tags": []
          }
        },
        {
          "output_type": "display_data",
          "data": {
            "text/html": [
              "<span style=\"color:cyan\"> |-Best step: 0</span>"
            ],
            "text/plain": [
              "<IPython.core.display.HTML object>"
            ]
          },
          "metadata": {
            "tags": []
          }
        },
        {
          "output_type": "display_data",
          "data": {
            "text/html": [
              "<span style=\"color:#7E57C2\"><h2 style=\"font-size:16px\">Hyperparameters:</h2></span>"
            ],
            "text/plain": [
              "<IPython.core.display.HTML object>"
            ]
          },
          "metadata": {
            "tags": []
          }
        },
        {
          "output_type": "display_data",
          "data": {
            "text/html": [
              "<span style=\"color:cyan\"> |-conv_0_units: 128</span>"
            ],
            "text/plain": [
              "<IPython.core.display.HTML object>"
            ]
          },
          "metadata": {
            "tags": []
          }
        },
        {
          "output_type": "display_data",
          "data": {
            "text/html": [
              "<span style=\"color:blue\"> |-conv_1_units: 32</span>"
            ],
            "text/plain": [
              "<IPython.core.display.HTML object>"
            ]
          },
          "metadata": {
            "tags": []
          }
        },
        {
          "output_type": "display_data",
          "data": {
            "text/html": [
              "<span style=\"color:cyan\"> |-dropout: 0.3</span>"
            ],
            "text/plain": [
              "<IPython.core.display.HTML object>"
            ]
          },
          "metadata": {
            "tags": []
          }
        },
        {
          "output_type": "display_data",
          "data": {
            "text/html": [
              "<span style=\"color:blue\"> |-input_units: 32</span>"
            ],
            "text/plain": [
              "<IPython.core.display.HTML object>"
            ]
          },
          "metadata": {
            "tags": []
          }
        },
        {
          "output_type": "display_data",
          "data": {
            "text/html": [
              "<span style=\"color:cyan\"> |-n_layers: 2</span>"
            ],
            "text/plain": [
              "<IPython.core.display.HTML object>"
            ]
          },
          "metadata": {
            "tags": []
          }
        },
        {
          "output_type": "display_data",
          "data": {
            "text/html": [
              "<span style=\"color:blue\"> |-tuner/bracket: 1</span>"
            ],
            "text/plain": [
              "<IPython.core.display.HTML object>"
            ]
          },
          "metadata": {
            "tags": []
          }
        },
        {
          "output_type": "display_data",
          "data": {
            "text/html": [
              "<span style=\"color:cyan\"> |-tuner/epochs: 2</span>"
            ],
            "text/plain": [
              "<IPython.core.display.HTML object>"
            ]
          },
          "metadata": {
            "tags": []
          }
        },
        {
          "output_type": "display_data",
          "data": {
            "text/html": [
              "<span style=\"color:blue\"> |-tuner/initial_epoch: 0</span>"
            ],
            "text/plain": [
              "<IPython.core.display.HTML object>"
            ]
          },
          "metadata": {
            "tags": []
          }
        },
        {
          "output_type": "display_data",
          "data": {
            "text/html": [
              "<span style=\"color:cyan\"> |-tuner/round: 0</span>"
            ],
            "text/plain": [
              "<IPython.core.display.HTML object>"
            ]
          },
          "metadata": {
            "tags": []
          }
        },
        {
          "output_type": "display_data",
          "data": {
            "text/html": [
              "<span style=\"color:#4527A0\"><h1 style=\"font-size:18px\">Trial complete</h1></span>"
            ],
            "text/plain": [
              "<IPython.core.display.HTML object>"
            ]
          },
          "metadata": {
            "tags": []
          }
        },
        {
          "output_type": "display_data",
          "data": {
            "text/html": [
              "<span style=\"color:#4527A0\"><h1 style=\"font-size:18px\">Trial summary</h1></span>"
            ],
            "text/plain": [
              "<IPython.core.display.HTML object>"
            ]
          },
          "metadata": {
            "tags": []
          }
        },
        {
          "output_type": "display_data",
          "data": {
            "text/html": [
              "<span style=\"color:cyan\"> |-Trial ID: 0bc46872d070ce44dd4b20aa31148d3a</span>"
            ],
            "text/plain": [
              "<IPython.core.display.HTML object>"
            ]
          },
          "metadata": {
            "tags": []
          }
        },
        {
          "output_type": "display_data",
          "data": {
            "text/html": [
              "<span style=\"color:cyan\"> |-Score: 0.6838889122009277</span>"
            ],
            "text/plain": [
              "<IPython.core.display.HTML object>"
            ]
          },
          "metadata": {
            "tags": []
          }
        },
        {
          "output_type": "display_data",
          "data": {
            "text/html": [
              "<span style=\"color:cyan\"> |-Best step: 0</span>"
            ],
            "text/plain": [
              "<IPython.core.display.HTML object>"
            ]
          },
          "metadata": {
            "tags": []
          }
        },
        {
          "output_type": "display_data",
          "data": {
            "text/html": [
              "<span style=\"color:#7E57C2\"><h2 style=\"font-size:16px\">Hyperparameters:</h2></span>"
            ],
            "text/plain": [
              "<IPython.core.display.HTML object>"
            ]
          },
          "metadata": {
            "tags": []
          }
        },
        {
          "output_type": "display_data",
          "data": {
            "text/html": [
              "<span style=\"color:cyan\"> |-conv_0_units: 128</span>"
            ],
            "text/plain": [
              "<IPython.core.display.HTML object>"
            ]
          },
          "metadata": {
            "tags": []
          }
        },
        {
          "output_type": "display_data",
          "data": {
            "text/html": [
              "<span style=\"color:blue\"> |-conv_1_units: 64</span>"
            ],
            "text/plain": [
              "<IPython.core.display.HTML object>"
            ]
          },
          "metadata": {
            "tags": []
          }
        },
        {
          "output_type": "display_data",
          "data": {
            "text/html": [
              "<span style=\"color:cyan\"> |-dropout: 0.5</span>"
            ],
            "text/plain": [
              "<IPython.core.display.HTML object>"
            ]
          },
          "metadata": {
            "tags": []
          }
        },
        {
          "output_type": "display_data",
          "data": {
            "text/html": [
              "<span style=\"color:blue\"> |-input_units: 64</span>"
            ],
            "text/plain": [
              "<IPython.core.display.HTML object>"
            ]
          },
          "metadata": {
            "tags": []
          }
        },
        {
          "output_type": "display_data",
          "data": {
            "text/html": [
              "<span style=\"color:cyan\"> |-n_layers: 2</span>"
            ],
            "text/plain": [
              "<IPython.core.display.HTML object>"
            ]
          },
          "metadata": {
            "tags": []
          }
        },
        {
          "output_type": "display_data",
          "data": {
            "text/html": [
              "<span style=\"color:blue\"> |-tuner/bracket: 1</span>"
            ],
            "text/plain": [
              "<IPython.core.display.HTML object>"
            ]
          },
          "metadata": {
            "tags": []
          }
        },
        {
          "output_type": "display_data",
          "data": {
            "text/html": [
              "<span style=\"color:cyan\"> |-tuner/epochs: 2</span>"
            ],
            "text/plain": [
              "<IPython.core.display.HTML object>"
            ]
          },
          "metadata": {
            "tags": []
          }
        },
        {
          "output_type": "display_data",
          "data": {
            "text/html": [
              "<span style=\"color:blue\"> |-tuner/initial_epoch: 0</span>"
            ],
            "text/plain": [
              "<IPython.core.display.HTML object>"
            ]
          },
          "metadata": {
            "tags": []
          }
        },
        {
          "output_type": "display_data",
          "data": {
            "text/html": [
              "<span style=\"color:cyan\"> |-tuner/round: 0</span>"
            ],
            "text/plain": [
              "<IPython.core.display.HTML object>"
            ]
          },
          "metadata": {
            "tags": []
          }
        },
        {
          "output_type": "display_data",
          "data": {
            "text/html": [
              "<span style=\"color:#4527A0\"><h1 style=\"font-size:18px\">Trial complete</h1></span>"
            ],
            "text/plain": [
              "<IPython.core.display.HTML object>"
            ]
          },
          "metadata": {
            "tags": []
          }
        },
        {
          "output_type": "display_data",
          "data": {
            "text/html": [
              "<span style=\"color:#4527A0\"><h1 style=\"font-size:18px\">Trial summary</h1></span>"
            ],
            "text/plain": [
              "<IPython.core.display.HTML object>"
            ]
          },
          "metadata": {
            "tags": []
          }
        },
        {
          "output_type": "display_data",
          "data": {
            "text/html": [
              "<span style=\"color:cyan\"> |-Trial ID: bdf27d3f8cd2f49091c75c139a94faa0</span>"
            ],
            "text/plain": [
              "<IPython.core.display.HTML object>"
            ]
          },
          "metadata": {
            "tags": []
          }
        },
        {
          "output_type": "display_data",
          "data": {
            "text/html": [
              "<span style=\"color:cyan\"> |-Score: 0.6877777576446533</span>"
            ],
            "text/plain": [
              "<IPython.core.display.HTML object>"
            ]
          },
          "metadata": {
            "tags": []
          }
        },
        {
          "output_type": "display_data",
          "data": {
            "text/html": [
              "<span style=\"color:cyan\"> |-Best step: 0</span>"
            ],
            "text/plain": [
              "<IPython.core.display.HTML object>"
            ]
          },
          "metadata": {
            "tags": []
          }
        },
        {
          "output_type": "display_data",
          "data": {
            "text/html": [
              "<span style=\"color:#7E57C2\"><h2 style=\"font-size:16px\">Hyperparameters:</h2></span>"
            ],
            "text/plain": [
              "<IPython.core.display.HTML object>"
            ]
          },
          "metadata": {
            "tags": []
          }
        },
        {
          "output_type": "display_data",
          "data": {
            "text/html": [
              "<span style=\"color:cyan\"> |-conv_0_units: 64</span>"
            ],
            "text/plain": [
              "<IPython.core.display.HTML object>"
            ]
          },
          "metadata": {
            "tags": []
          }
        },
        {
          "output_type": "display_data",
          "data": {
            "text/html": [
              "<span style=\"color:blue\"> |-conv_1_units: 96</span>"
            ],
            "text/plain": [
              "<IPython.core.display.HTML object>"
            ]
          },
          "metadata": {
            "tags": []
          }
        },
        {
          "output_type": "display_data",
          "data": {
            "text/html": [
              "<span style=\"color:cyan\"> |-dropout: 0.3</span>"
            ],
            "text/plain": [
              "<IPython.core.display.HTML object>"
            ]
          },
          "metadata": {
            "tags": []
          }
        },
        {
          "output_type": "display_data",
          "data": {
            "text/html": [
              "<span style=\"color:blue\"> |-input_units: 64</span>"
            ],
            "text/plain": [
              "<IPython.core.display.HTML object>"
            ]
          },
          "metadata": {
            "tags": []
          }
        },
        {
          "output_type": "display_data",
          "data": {
            "text/html": [
              "<span style=\"color:cyan\"> |-n_layers: 2</span>"
            ],
            "text/plain": [
              "<IPython.core.display.HTML object>"
            ]
          },
          "metadata": {
            "tags": []
          }
        },
        {
          "output_type": "display_data",
          "data": {
            "text/html": [
              "<span style=\"color:blue\"> |-tuner/bracket: 1</span>"
            ],
            "text/plain": [
              "<IPython.core.display.HTML object>"
            ]
          },
          "metadata": {
            "tags": []
          }
        },
        {
          "output_type": "display_data",
          "data": {
            "text/html": [
              "<span style=\"color:cyan\"> |-tuner/epochs: 2</span>"
            ],
            "text/plain": [
              "<IPython.core.display.HTML object>"
            ]
          },
          "metadata": {
            "tags": []
          }
        },
        {
          "output_type": "display_data",
          "data": {
            "text/html": [
              "<span style=\"color:blue\"> |-tuner/initial_epoch: 0</span>"
            ],
            "text/plain": [
              "<IPython.core.display.HTML object>"
            ]
          },
          "metadata": {
            "tags": []
          }
        },
        {
          "output_type": "display_data",
          "data": {
            "text/html": [
              "<span style=\"color:cyan\"> |-tuner/round: 0</span>"
            ],
            "text/plain": [
              "<IPython.core.display.HTML object>"
            ]
          },
          "metadata": {
            "tags": []
          }
        },
        {
          "output_type": "display_data",
          "data": {
            "text/html": [
              "<span style=\"color:#4527A0\"><h1 style=\"font-size:18px\">Trial complete</h1></span>"
            ],
            "text/plain": [
              "<IPython.core.display.HTML object>"
            ]
          },
          "metadata": {
            "tags": []
          }
        },
        {
          "output_type": "display_data",
          "data": {
            "text/html": [
              "<span style=\"color:#4527A0\"><h1 style=\"font-size:18px\">Trial summary</h1></span>"
            ],
            "text/plain": [
              "<IPython.core.display.HTML object>"
            ]
          },
          "metadata": {
            "tags": []
          }
        },
        {
          "output_type": "display_data",
          "data": {
            "text/html": [
              "<span style=\"color:cyan\"> |-Trial ID: 232bdae1adb9866715598aec52fbaabf</span>"
            ],
            "text/plain": [
              "<IPython.core.display.HTML object>"
            ]
          },
          "metadata": {
            "tags": []
          }
        },
        {
          "output_type": "display_data",
          "data": {
            "text/html": [
              "<span style=\"color:cyan\"> |-Score: 0.7572222352027893</span>"
            ],
            "text/plain": [
              "<IPython.core.display.HTML object>"
            ]
          },
          "metadata": {
            "tags": []
          }
        },
        {
          "output_type": "display_data",
          "data": {
            "text/html": [
              "<span style=\"color:cyan\"> |-Best step: 0</span>"
            ],
            "text/plain": [
              "<IPython.core.display.HTML object>"
            ]
          },
          "metadata": {
            "tags": []
          }
        },
        {
          "output_type": "display_data",
          "data": {
            "text/html": [
              "<span style=\"color:#7E57C2\"><h2 style=\"font-size:16px\">Hyperparameters:</h2></span>"
            ],
            "text/plain": [
              "<IPython.core.display.HTML object>"
            ]
          },
          "metadata": {
            "tags": []
          }
        },
        {
          "output_type": "display_data",
          "data": {
            "text/html": [
              "<span style=\"color:cyan\"> |-conv_0_units: 128</span>"
            ],
            "text/plain": [
              "<IPython.core.display.HTML object>"
            ]
          },
          "metadata": {
            "tags": []
          }
        },
        {
          "output_type": "display_data",
          "data": {
            "text/html": [
              "<span style=\"color:blue\"> |-dropout: 0.5</span>"
            ],
            "text/plain": [
              "<IPython.core.display.HTML object>"
            ]
          },
          "metadata": {
            "tags": []
          }
        },
        {
          "output_type": "display_data",
          "data": {
            "text/html": [
              "<span style=\"color:cyan\"> |-input_units: 128</span>"
            ],
            "text/plain": [
              "<IPython.core.display.HTML object>"
            ]
          },
          "metadata": {
            "tags": []
          }
        },
        {
          "output_type": "display_data",
          "data": {
            "text/html": [
              "<span style=\"color:blue\"> |-n_layers: 1</span>"
            ],
            "text/plain": [
              "<IPython.core.display.HTML object>"
            ]
          },
          "metadata": {
            "tags": []
          }
        },
        {
          "output_type": "display_data",
          "data": {
            "text/html": [
              "<span style=\"color:cyan\"> |-tuner/bracket: 1</span>"
            ],
            "text/plain": [
              "<IPython.core.display.HTML object>"
            ]
          },
          "metadata": {
            "tags": []
          }
        },
        {
          "output_type": "display_data",
          "data": {
            "text/html": [
              "<span style=\"color:blue\"> |-tuner/epochs: 6</span>"
            ],
            "text/plain": [
              "<IPython.core.display.HTML object>"
            ]
          },
          "metadata": {
            "tags": []
          }
        },
        {
          "output_type": "display_data",
          "data": {
            "text/html": [
              "<span style=\"color:cyan\"> |-tuner/initial_epoch: 2</span>"
            ],
            "text/plain": [
              "<IPython.core.display.HTML object>"
            ]
          },
          "metadata": {
            "tags": []
          }
        },
        {
          "output_type": "display_data",
          "data": {
            "text/html": [
              "<span style=\"color:blue\"> |-tuner/round: 1</span>"
            ],
            "text/plain": [
              "<IPython.core.display.HTML object>"
            ]
          },
          "metadata": {
            "tags": []
          }
        },
        {
          "output_type": "display_data",
          "data": {
            "text/html": [
              "<span style=\"color:cyan\"> |-tuner/trial_id: 6f50c3849d085787c383d110095fa72b</span>"
            ],
            "text/plain": [
              "<IPython.core.display.HTML object>"
            ]
          },
          "metadata": {
            "tags": []
          }
        },
        {
          "output_type": "display_data",
          "data": {
            "text/html": [
              "<span style=\"color:#4527A0\"><h1 style=\"font-size:18px\">Trial complete</h1></span>"
            ],
            "text/plain": [
              "<IPython.core.display.HTML object>"
            ]
          },
          "metadata": {
            "tags": []
          }
        },
        {
          "output_type": "display_data",
          "data": {
            "text/html": [
              "<span style=\"color:#4527A0\"><h1 style=\"font-size:18px\">Trial summary</h1></span>"
            ],
            "text/plain": [
              "<IPython.core.display.HTML object>"
            ]
          },
          "metadata": {
            "tags": []
          }
        },
        {
          "output_type": "display_data",
          "data": {
            "text/html": [
              "<span style=\"color:cyan\"> |-Trial ID: 2fd9e2780b652ac21629a1f9ae273631</span>"
            ],
            "text/plain": [
              "<IPython.core.display.HTML object>"
            ]
          },
          "metadata": {
            "tags": []
          }
        },
        {
          "output_type": "display_data",
          "data": {
            "text/html": [
              "<span style=\"color:cyan\"> |-Score: 0.7594444155693054</span>"
            ],
            "text/plain": [
              "<IPython.core.display.HTML object>"
            ]
          },
          "metadata": {
            "tags": []
          }
        },
        {
          "output_type": "display_data",
          "data": {
            "text/html": [
              "<span style=\"color:cyan\"> |-Best step: 0</span>"
            ],
            "text/plain": [
              "<IPython.core.display.HTML object>"
            ]
          },
          "metadata": {
            "tags": []
          }
        },
        {
          "output_type": "display_data",
          "data": {
            "text/html": [
              "<span style=\"color:#7E57C2\"><h2 style=\"font-size:16px\">Hyperparameters:</h2></span>"
            ],
            "text/plain": [
              "<IPython.core.display.HTML object>"
            ]
          },
          "metadata": {
            "tags": []
          }
        },
        {
          "output_type": "display_data",
          "data": {
            "text/html": [
              "<span style=\"color:cyan\"> |-conv_0_units: 96</span>"
            ],
            "text/plain": [
              "<IPython.core.display.HTML object>"
            ]
          },
          "metadata": {
            "tags": []
          }
        },
        {
          "output_type": "display_data",
          "data": {
            "text/html": [
              "<span style=\"color:blue\"> |-dropout: 0.3</span>"
            ],
            "text/plain": [
              "<IPython.core.display.HTML object>"
            ]
          },
          "metadata": {
            "tags": []
          }
        },
        {
          "output_type": "display_data",
          "data": {
            "text/html": [
              "<span style=\"color:cyan\"> |-input_units: 64</span>"
            ],
            "text/plain": [
              "<IPython.core.display.HTML object>"
            ]
          },
          "metadata": {
            "tags": []
          }
        },
        {
          "output_type": "display_data",
          "data": {
            "text/html": [
              "<span style=\"color:blue\"> |-n_layers: 1</span>"
            ],
            "text/plain": [
              "<IPython.core.display.HTML object>"
            ]
          },
          "metadata": {
            "tags": []
          }
        },
        {
          "output_type": "display_data",
          "data": {
            "text/html": [
              "<span style=\"color:cyan\"> |-tuner/bracket: 1</span>"
            ],
            "text/plain": [
              "<IPython.core.display.HTML object>"
            ]
          },
          "metadata": {
            "tags": []
          }
        },
        {
          "output_type": "display_data",
          "data": {
            "text/html": [
              "<span style=\"color:blue\"> |-tuner/epochs: 6</span>"
            ],
            "text/plain": [
              "<IPython.core.display.HTML object>"
            ]
          },
          "metadata": {
            "tags": []
          }
        },
        {
          "output_type": "display_data",
          "data": {
            "text/html": [
              "<span style=\"color:cyan\"> |-tuner/initial_epoch: 2</span>"
            ],
            "text/plain": [
              "<IPython.core.display.HTML object>"
            ]
          },
          "metadata": {
            "tags": []
          }
        },
        {
          "output_type": "display_data",
          "data": {
            "text/html": [
              "<span style=\"color:blue\"> |-tuner/round: 1</span>"
            ],
            "text/plain": [
              "<IPython.core.display.HTML object>"
            ]
          },
          "metadata": {
            "tags": []
          }
        },
        {
          "output_type": "display_data",
          "data": {
            "text/html": [
              "<span style=\"color:cyan\"> |-tuner/trial_id: 678058afd32859fda25f07947d33a900</span>"
            ],
            "text/plain": [
              "<IPython.core.display.HTML object>"
            ]
          },
          "metadata": {
            "tags": []
          }
        },
        {
          "output_type": "display_data",
          "data": {
            "text/html": [
              "<span style=\"color:#4527A0\"><h1 style=\"font-size:18px\">Trial complete</h1></span>"
            ],
            "text/plain": [
              "<IPython.core.display.HTML object>"
            ]
          },
          "metadata": {
            "tags": []
          }
        },
        {
          "output_type": "display_data",
          "data": {
            "text/html": [
              "<span style=\"color:#4527A0\"><h1 style=\"font-size:18px\">Trial summary</h1></span>"
            ],
            "text/plain": [
              "<IPython.core.display.HTML object>"
            ]
          },
          "metadata": {
            "tags": []
          }
        },
        {
          "output_type": "display_data",
          "data": {
            "text/html": [
              "<span style=\"color:cyan\"> |-Trial ID: bc69d1c71a67cf642bf58b9af058b7a2</span>"
            ],
            "text/plain": [
              "<IPython.core.display.HTML object>"
            ]
          },
          "metadata": {
            "tags": []
          }
        },
        {
          "output_type": "display_data",
          "data": {
            "text/html": [
              "<span style=\"color:cyan\"> |-Score: 0.7705555558204651</span>"
            ],
            "text/plain": [
              "<IPython.core.display.HTML object>"
            ]
          },
          "metadata": {
            "tags": []
          }
        },
        {
          "output_type": "display_data",
          "data": {
            "text/html": [
              "<span style=\"color:cyan\"> |-Best step: 0</span>"
            ],
            "text/plain": [
              "<IPython.core.display.HTML object>"
            ]
          },
          "metadata": {
            "tags": []
          }
        },
        {
          "output_type": "display_data",
          "data": {
            "text/html": [
              "<span style=\"color:#7E57C2\"><h2 style=\"font-size:16px\">Hyperparameters:</h2></span>"
            ],
            "text/plain": [
              "<IPython.core.display.HTML object>"
            ]
          },
          "metadata": {
            "tags": []
          }
        },
        {
          "output_type": "display_data",
          "data": {
            "text/html": [
              "<span style=\"color:cyan\"> |-conv_0_units: 64</span>"
            ],
            "text/plain": [
              "<IPython.core.display.HTML object>"
            ]
          },
          "metadata": {
            "tags": []
          }
        },
        {
          "output_type": "display_data",
          "data": {
            "text/html": [
              "<span style=\"color:blue\"> |-conv_1_units: 64</span>"
            ],
            "text/plain": [
              "<IPython.core.display.HTML object>"
            ]
          },
          "metadata": {
            "tags": []
          }
        },
        {
          "output_type": "display_data",
          "data": {
            "text/html": [
              "<span style=\"color:cyan\"> |-dropout: 0.5</span>"
            ],
            "text/plain": [
              "<IPython.core.display.HTML object>"
            ]
          },
          "metadata": {
            "tags": []
          }
        },
        {
          "output_type": "display_data",
          "data": {
            "text/html": [
              "<span style=\"color:blue\"> |-input_units: 128</span>"
            ],
            "text/plain": [
              "<IPython.core.display.HTML object>"
            ]
          },
          "metadata": {
            "tags": []
          }
        },
        {
          "output_type": "display_data",
          "data": {
            "text/html": [
              "<span style=\"color:cyan\"> |-n_layers: 1</span>"
            ],
            "text/plain": [
              "<IPython.core.display.HTML object>"
            ]
          },
          "metadata": {
            "tags": []
          }
        },
        {
          "output_type": "display_data",
          "data": {
            "text/html": [
              "<span style=\"color:blue\"> |-tuner/bracket: 0</span>"
            ],
            "text/plain": [
              "<IPython.core.display.HTML object>"
            ]
          },
          "metadata": {
            "tags": []
          }
        },
        {
          "output_type": "display_data",
          "data": {
            "text/html": [
              "<span style=\"color:cyan\"> |-tuner/epochs: 6</span>"
            ],
            "text/plain": [
              "<IPython.core.display.HTML object>"
            ]
          },
          "metadata": {
            "tags": []
          }
        },
        {
          "output_type": "display_data",
          "data": {
            "text/html": [
              "<span style=\"color:blue\"> |-tuner/initial_epoch: 0</span>"
            ],
            "text/plain": [
              "<IPython.core.display.HTML object>"
            ]
          },
          "metadata": {
            "tags": []
          }
        },
        {
          "output_type": "display_data",
          "data": {
            "text/html": [
              "<span style=\"color:cyan\"> |-tuner/round: 0</span>"
            ],
            "text/plain": [
              "<IPython.core.display.HTML object>"
            ]
          },
          "metadata": {
            "tags": []
          }
        },
        {
          "output_type": "display_data",
          "data": {
            "text/html": [
              "<span style=\"color:#4527A0\"><h1 style=\"font-size:18px\">Trial complete</h1></span>"
            ],
            "text/plain": [
              "<IPython.core.display.HTML object>"
            ]
          },
          "metadata": {
            "tags": []
          }
        },
        {
          "output_type": "display_data",
          "data": {
            "text/html": [
              "<span style=\"color:#4527A0\"><h1 style=\"font-size:18px\">Trial summary</h1></span>"
            ],
            "text/plain": [
              "<IPython.core.display.HTML object>"
            ]
          },
          "metadata": {
            "tags": []
          }
        },
        {
          "output_type": "display_data",
          "data": {
            "text/html": [
              "<span style=\"color:cyan\"> |-Trial ID: a3243b957662ffe4be2cd4a6cc244a0d</span>"
            ],
            "text/plain": [
              "<IPython.core.display.HTML object>"
            ]
          },
          "metadata": {
            "tags": []
          }
        },
        {
          "output_type": "display_data",
          "data": {
            "text/html": [
              "<span style=\"color:cyan\"> |-Score: 0.7894444465637207</span>"
            ],
            "text/plain": [
              "<IPython.core.display.HTML object>"
            ]
          },
          "metadata": {
            "tags": []
          }
        },
        {
          "output_type": "display_data",
          "data": {
            "text/html": [
              "<span style=\"color:cyan\"> |-Best step: 0</span>"
            ],
            "text/plain": [
              "<IPython.core.display.HTML object>"
            ]
          },
          "metadata": {
            "tags": []
          }
        },
        {
          "output_type": "display_data",
          "data": {
            "text/html": [
              "<span style=\"color:#7E57C2\"><h2 style=\"font-size:16px\">Hyperparameters:</h2></span>"
            ],
            "text/plain": [
              "<IPython.core.display.HTML object>"
            ]
          },
          "metadata": {
            "tags": []
          }
        },
        {
          "output_type": "display_data",
          "data": {
            "text/html": [
              "<span style=\"color:cyan\"> |-conv_0_units: 64</span>"
            ],
            "text/plain": [
              "<IPython.core.display.HTML object>"
            ]
          },
          "metadata": {
            "tags": []
          }
        },
        {
          "output_type": "display_data",
          "data": {
            "text/html": [
              "<span style=\"color:blue\"> |-conv_1_units: 128</span>"
            ],
            "text/plain": [
              "<IPython.core.display.HTML object>"
            ]
          },
          "metadata": {
            "tags": []
          }
        },
        {
          "output_type": "display_data",
          "data": {
            "text/html": [
              "<span style=\"color:cyan\"> |-dropout: 0.3</span>"
            ],
            "text/plain": [
              "<IPython.core.display.HTML object>"
            ]
          },
          "metadata": {
            "tags": []
          }
        },
        {
          "output_type": "display_data",
          "data": {
            "text/html": [
              "<span style=\"color:blue\"> |-input_units: 96</span>"
            ],
            "text/plain": [
              "<IPython.core.display.HTML object>"
            ]
          },
          "metadata": {
            "tags": []
          }
        },
        {
          "output_type": "display_data",
          "data": {
            "text/html": [
              "<span style=\"color:cyan\"> |-n_layers: 1</span>"
            ],
            "text/plain": [
              "<IPython.core.display.HTML object>"
            ]
          },
          "metadata": {
            "tags": []
          }
        },
        {
          "output_type": "display_data",
          "data": {
            "text/html": [
              "<span style=\"color:blue\"> |-tuner/bracket: 0</span>"
            ],
            "text/plain": [
              "<IPython.core.display.HTML object>"
            ]
          },
          "metadata": {
            "tags": []
          }
        },
        {
          "output_type": "display_data",
          "data": {
            "text/html": [
              "<span style=\"color:cyan\"> |-tuner/epochs: 6</span>"
            ],
            "text/plain": [
              "<IPython.core.display.HTML object>"
            ]
          },
          "metadata": {
            "tags": []
          }
        },
        {
          "output_type": "display_data",
          "data": {
            "text/html": [
              "<span style=\"color:blue\"> |-tuner/initial_epoch: 0</span>"
            ],
            "text/plain": [
              "<IPython.core.display.HTML object>"
            ]
          },
          "metadata": {
            "tags": []
          }
        },
        {
          "output_type": "display_data",
          "data": {
            "text/html": [
              "<span style=\"color:cyan\"> |-tuner/round: 0</span>"
            ],
            "text/plain": [
              "<IPython.core.display.HTML object>"
            ]
          },
          "metadata": {
            "tags": []
          }
        },
        {
          "output_type": "display_data",
          "data": {
            "text/html": [
              "<span style=\"color:#4527A0\"><h1 style=\"font-size:18px\">Trial complete</h1></span>"
            ],
            "text/plain": [
              "<IPython.core.display.HTML object>"
            ]
          },
          "metadata": {
            "tags": []
          }
        },
        {
          "output_type": "display_data",
          "data": {
            "text/html": [
              "<span style=\"color:#4527A0\"><h1 style=\"font-size:18px\">Trial summary</h1></span>"
            ],
            "text/plain": [
              "<IPython.core.display.HTML object>"
            ]
          },
          "metadata": {
            "tags": []
          }
        },
        {
          "output_type": "display_data",
          "data": {
            "text/html": [
              "<span style=\"color:cyan\"> |-Trial ID: 140dd37e40593888701e7b1375510fc3</span>"
            ],
            "text/plain": [
              "<IPython.core.display.HTML object>"
            ]
          },
          "metadata": {
            "tags": []
          }
        },
        {
          "output_type": "display_data",
          "data": {
            "text/html": [
              "<span style=\"color:cyan\"> |-Score: 0.7616666555404663</span>"
            ],
            "text/plain": [
              "<IPython.core.display.HTML object>"
            ]
          },
          "metadata": {
            "tags": []
          }
        },
        {
          "output_type": "display_data",
          "data": {
            "text/html": [
              "<span style=\"color:cyan\"> |-Best step: 0</span>"
            ],
            "text/plain": [
              "<IPython.core.display.HTML object>"
            ]
          },
          "metadata": {
            "tags": []
          }
        },
        {
          "output_type": "display_data",
          "data": {
            "text/html": [
              "<span style=\"color:#7E57C2\"><h2 style=\"font-size:16px\">Hyperparameters:</h2></span>"
            ],
            "text/plain": [
              "<IPython.core.display.HTML object>"
            ]
          },
          "metadata": {
            "tags": []
          }
        },
        {
          "output_type": "display_data",
          "data": {
            "text/html": [
              "<span style=\"color:cyan\"> |-conv_0_units: 64</span>"
            ],
            "text/plain": [
              "<IPython.core.display.HTML object>"
            ]
          },
          "metadata": {
            "tags": []
          }
        },
        {
          "output_type": "display_data",
          "data": {
            "text/html": [
              "<span style=\"color:blue\"> |-conv_1_units: 96</span>"
            ],
            "text/plain": [
              "<IPython.core.display.HTML object>"
            ]
          },
          "metadata": {
            "tags": []
          }
        },
        {
          "output_type": "display_data",
          "data": {
            "text/html": [
              "<span style=\"color:cyan\"> |-dropout: 0.5</span>"
            ],
            "text/plain": [
              "<IPython.core.display.HTML object>"
            ]
          },
          "metadata": {
            "tags": []
          }
        },
        {
          "output_type": "display_data",
          "data": {
            "text/html": [
              "<span style=\"color:blue\"> |-input_units: 128</span>"
            ],
            "text/plain": [
              "<IPython.core.display.HTML object>"
            ]
          },
          "metadata": {
            "tags": []
          }
        },
        {
          "output_type": "display_data",
          "data": {
            "text/html": [
              "<span style=\"color:cyan\"> |-n_layers: 2</span>"
            ],
            "text/plain": [
              "<IPython.core.display.HTML object>"
            ]
          },
          "metadata": {
            "tags": []
          }
        },
        {
          "output_type": "display_data",
          "data": {
            "text/html": [
              "<span style=\"color:blue\"> |-tuner/bracket: 0</span>"
            ],
            "text/plain": [
              "<IPython.core.display.HTML object>"
            ]
          },
          "metadata": {
            "tags": []
          }
        },
        {
          "output_type": "display_data",
          "data": {
            "text/html": [
              "<span style=\"color:cyan\"> |-tuner/epochs: 6</span>"
            ],
            "text/plain": [
              "<IPython.core.display.HTML object>"
            ]
          },
          "metadata": {
            "tags": []
          }
        },
        {
          "output_type": "display_data",
          "data": {
            "text/html": [
              "<span style=\"color:blue\"> |-tuner/initial_epoch: 0</span>"
            ],
            "text/plain": [
              "<IPython.core.display.HTML object>"
            ]
          },
          "metadata": {
            "tags": []
          }
        },
        {
          "output_type": "display_data",
          "data": {
            "text/html": [
              "<span style=\"color:cyan\"> |-tuner/round: 0</span>"
            ],
            "text/plain": [
              "<IPython.core.display.HTML object>"
            ]
          },
          "metadata": {
            "tags": []
          }
        },
        {
          "output_type": "stream",
          "text": [
            "INFO:tensorflow:Oracle triggered exit\n"
          ],
          "name": "stdout"
        }
      ]
    },
    {
      "cell_type": "markdown",
      "metadata": {
        "id": "UZtzEwA_sS7v",
        "colab_type": "text"
      },
      "source": [
        "Finally, after tuning the hyperparameter, we print out the best hyperparameter."
      ]
    },
    {
      "cell_type": "code",
      "metadata": {
        "id": "QPyfnFbyJ0OA",
        "colab_type": "code",
        "outputId": "2a65ed59-414b-4790-d78e-0c042366ce3b",
        "colab": {
          "base_uri": "https://localhost:8080/",
          "height": 564
        }
      },
      "source": [
        "hyperparameters = tuner.get_best_hyperparameters()[0].values\n",
        "print('Hyperparameters: {}'.format(hyperparameters))\n",
        "\n",
        "model = tuner.get_best_models(num_models=1)[0]\n",
        "model.summary()"
      ],
      "execution_count": 9,
      "outputs": [
        {
          "output_type": "stream",
          "text": [
            "Hyperparameters: {'input_units': 96, 'dropout': 0.3, 'n_layers': 1, 'conv_0_units': 64, 'conv_1_units': 128, 'tuner/epochs': 6, 'tuner/initial_epoch': 0, 'tuner/bracket': 0, 'tuner/round': 0}\n",
            "Model: \"sequential\"\n",
            "_________________________________________________________________\n",
            "Layer (type)                 Output Shape              Param #   \n",
            "=================================================================\n",
            "conv2d (Conv2D)              (None, 46, 46, 96)        960       \n",
            "_________________________________________________________________\n",
            "activation (Activation)      (None, 46, 46, 96)        0         \n",
            "_________________________________________________________________\n",
            "max_pooling2d (MaxPooling2D) (None, 23, 23, 96)        0         \n",
            "_________________________________________________________________\n",
            "dropout (Dropout)            (None, 23, 23, 96)        0         \n",
            "_________________________________________________________________\n",
            "conv2d_1 (Conv2D)            (None, 21, 21, 64)        55360     \n",
            "_________________________________________________________________\n",
            "activation_1 (Activation)    (None, 21, 21, 64)        0         \n",
            "_________________________________________________________________\n",
            "max_pooling2d_1 (MaxPooling2 (None, 10, 10, 64)        0         \n",
            "_________________________________________________________________\n",
            "dropout_1 (Dropout)          (None, 10, 10, 64)        0         \n",
            "_________________________________________________________________\n",
            "flatten (Flatten)            (None, 6400)              0         \n",
            "_________________________________________________________________\n",
            "dense (Dense)                (None, 3)                 19203     \n",
            "_________________________________________________________________\n",
            "activation_2 (Activation)    (None, 3)                 0         \n",
            "=================================================================\n",
            "Total params: 75,523\n",
            "Trainable params: 75,523\n",
            "Non-trainable params: 0\n",
            "_________________________________________________________________\n"
          ],
          "name": "stdout"
        }
      ]
    },
    {
      "cell_type": "markdown",
      "metadata": {
        "id": "k1C3X5NfXn9r",
        "colab_type": "text"
      },
      "source": [
        "#### **Train Data**"
      ]
    },
    {
      "cell_type": "markdown",
      "metadata": {
        "id": "nOlJvEWXXrwP",
        "colab_type": "text"
      },
      "source": [
        "Then I use **K-Fold Cross Validation** to prepare training set and test set."
      ]
    },
    {
      "cell_type": "code",
      "metadata": {
        "id": "ASJCvh8xet5m",
        "colab_type": "code",
        "outputId": "391c810c-09e5-4aac-ecbf-11112a0ebaef",
        "colab": {
          "base_uri": "https://localhost:8080/",
          "height": 451
        }
      },
      "source": [
        "from sklearn.model_selection import StratifiedKFold\n",
        "\n",
        "# Constants\n",
        "K_FOLD_SPLIT = 10 # Split to 10 folds for cross validation\n",
        "BATCH_SIZE = 100\n",
        "EPOCHS = 100\n",
        "\n",
        "# Define Stratigied K-Fold with split\n",
        "kfold = StratifiedKFold(n_splits=K_FOLD_SPLIT)\n",
        "\n",
        "trial_num = 0\n",
        "x_train = x_train / 255.0\n",
        "x_train = x_train.reshape(len(x_train), 48, 48, 1)\n",
        "\n",
        "accuracy_history = []\n",
        "val_accuracy_history = []\n",
        "\n",
        "for train_indices, test_indices in kfold.split(x_train, y_train):\n",
        "\n",
        "    # Prepare training set and test set\n",
        "    kfold_x_train = x_train[train_indices]\n",
        "    kfold_y_train = y_train[train_indices]\n",
        "    kfold_x_test = x_train[test_indices]\n",
        "    kfold_y_test = y_train[test_indices]\n",
        "\n",
        "    # Train data\n",
        "    history = model.fit(kfold_x_train,\n",
        "                        kfold_y_train,\n",
        "                        batch_size=BATCH_SIZE,\n",
        "                        epochs=EPOCHS,\n",
        "                        verbose=0,\n",
        "                        validation_data = (kfold_x_test, kfold_y_test),\n",
        "                        callbacks=[EarlyStopping(patience=10)]) # Early stopping strategy\n",
        "\n",
        "    # Calculate accuracy history\n",
        "    current_accuracy = history.history['accuracy']\n",
        "    for accuracy in current_accuracy:\n",
        "        accuracy_history.append(accuracy)\n",
        "\n",
        "    current_val_accuracy = history.history['val_accuracy']\n",
        "    for val_accuracy in current_val_accuracy:\n",
        "        val_accuracy_history.append(val_accuracy)\n",
        "\n",
        "    # Find the best score\n",
        "    best_accuracy = max(current_accuracy)\n",
        "    best_val_accuracy = max(current_val_accuracy)\n",
        "\n",
        "    # Show some logs \n",
        "    trial_num += 1\n",
        "    print('K-Fold Trial: {}, Best accuracy: {}, Best validation accuracy: {}'.format(trial_num, best_accuracy, best_val_accuracy))\n",
        "\n",
        "# Show diagram\n",
        "plt.plot(accuracy_history, label='accuracy')\n",
        "plt.plot(val_accuracy_history, label='val_accuracy')\n",
        "plt.xlabel('Epoch')\n",
        "plt.ylabel('Accuracy')\n",
        "plt.show()"
      ],
      "execution_count": 10,
      "outputs": [
        {
          "output_type": "stream",
          "text": [
            "K-Fold Trial: 1, Best accuracy: 0.8816049098968506, Best validation accuracy: 0.8433333039283752\n",
            "K-Fold Trial: 2, Best accuracy: 0.903333306312561, Best validation accuracy: 0.9177777767181396\n",
            "K-Fold Trial: 3, Best accuracy: 0.9106172919273376, Best validation accuracy: 0.9444444179534912\n",
            "K-Fold Trial: 4, Best accuracy: 0.9224691390991211, Best validation accuracy: 0.9644444584846497\n",
            "K-Fold Trial: 5, Best accuracy: 0.9240740537643433, Best validation accuracy: 0.9711111187934875\n",
            "K-Fold Trial: 6, Best accuracy: 0.933580219745636, Best validation accuracy: 0.9800000190734863\n",
            "K-Fold Trial: 7, Best accuracy: 0.9385185241699219, Best validation accuracy: 0.9822221994400024\n",
            "K-Fold Trial: 8, Best accuracy: 0.9440740942955017, Best validation accuracy: 0.9877777695655823\n",
            "K-Fold Trial: 9, Best accuracy: 0.9513580203056335, Best validation accuracy: 0.9888888597488403\n",
            "K-Fold Trial: 10, Best accuracy: 0.9528394937515259, Best validation accuracy: 0.992222249507904\n"
          ],
          "name": "stdout"
        },
        {
          "output_type": "display_data",
          "data": {
            "image/png": "[encoded data removed]",
            "text/plain": [
              "<Figure size 432x288 with 1 Axes>"
            ]
          },
          "metadata": {
            "tags": []
          }
        }
      ]
    },
    {
      "cell_type": "markdown",
      "metadata": {
        "id": "QorjdxTEXscY",
        "colab_type": "text"
      },
      "source": [
        "#### **Evaluate Model**"
      ]
    },
    {
      "cell_type": "markdown",
      "metadata": {
        "id": "-2yvodZGY5NC",
        "colab_type": "text"
      },
      "source": [
        "Here I use a photo of myself to evaluate the model."
      ]
    },
    {
      "cell_type": "markdown",
      "metadata": {
        "id": "A5dr19k2Ud7Y",
        "colab_type": "text"
      },
      "source": [
        "First of all, we need to download the photo of myself to the file folder."
      ]
    },
    {
      "cell_type": "code",
      "metadata": {
        "id": "IpcvdNHcUWsz",
        "colab_type": "code",
        "colab": {}
      },
      "source": [
        "!wget --no-check-certificate 'https://docs.google.com/uc?export=download&id=1Oxv9DQZJc7H-M4MXyYghyW5IL8rksIZJ' -O mike_photo.jpg > /dev/null 2>&1"
      ],
      "execution_count": 0,
      "outputs": []
    },
    {
      "cell_type": "markdown",
      "metadata": {
        "id": "vRQUvV7VWxFW",
        "colab_type": "text"
      },
      "source": [
        "Then, show the image after download the photo."
      ]
    },
    {
      "cell_type": "code",
      "metadata": {
        "id": "LY5WqdmlW02m",
        "colab_type": "code",
        "outputId": "64d65f9c-9729-431a-874d-bd4e3926aad6",
        "colab": {
          "base_uri": "https://localhost:8080/",
          "height": 267
        }
      },
      "source": [
        "from PIL import Image\n",
        "import numpy as np\n",
        "import matplotlib.pyplot as plt\n",
        "%matplotlib inline\n",
        "\n",
        "# Open image\n",
        "rgb_image = Image.open('mike_photo.jpg')\n",
        "\n",
        "# Convert to numpy array\n",
        "rgb_array = np.array(rgb_image)\n",
        "\n",
        "# Show image\n",
        "plt.imshow(rgb_array)\n",
        "plt.show()"
      ],
      "execution_count": 12,
      "outputs": [
        {
          "output_type": "display_data",
          "data": {
            "image/png": "[encoded data removed]",
            "text/plain": [
              "<Figure size 432x288 with 1 Axes>"
            ]
          },
          "metadata": {
            "tags": []
          }
        }
      ]
    },
    {
      "cell_type": "markdown",
      "metadata": {
        "id": "DISfLSB6VG11",
        "colab_type": "text"
      },
      "source": [
        "Next, convert the photo to grey-scale for further model evaluation."
      ]
    },
    {
      "cell_type": "code",
      "metadata": {
        "id": "muJXXkTbVMgb",
        "colab_type": "code",
        "outputId": "9e978fc6-db35-44df-f8d1-75faaee6ba96",
        "colab": {
          "base_uri": "https://localhost:8080/",
          "height": 267
        }
      },
      "source": [
        "# Convert to grey-scale image\n",
        "grey_image = rgb_image.convert('L')\n",
        "\n",
        "# Conver to numpy array\n",
        "grey_array = np.array(grey_image)\n",
        "\n",
        "# Show image\n",
        "plt.imshow(grey_array, cmap='gray')\n",
        "plt.show()"
      ],
      "execution_count": 13,
      "outputs": [
        {
          "output_type": "display_data",
          "data": {
            "image/png": "[encoded data removed]",
            "text/plain": [
              "<Figure size 432x288 with 1 Axes>"
            ]
          },
          "metadata": {
            "tags": []
          }
        }
      ]
    },
    {
      "cell_type": "markdown",
      "metadata": {
        "id": "oaVW8JnLaLtN",
        "colab_type": "text"
      },
      "source": [
        "Then, we evaluate the model with the photo of myself."
      ]
    },
    {
      "cell_type": "code",
      "metadata": {
        "id": "4PGUGP3OaSdv",
        "colab_type": "code",
        "outputId": "97f5fd74-1686-42b8-f44e-146acbb92ed7",
        "colab": {
          "base_uri": "https://localhost:8080/",
          "height": 68
        }
      },
      "source": [
        "# Reshape the image to evaluate the model\n",
        "x_eval = grey_array.reshape(1, 48, 48, 1)\n",
        "print(grey_array.shape)\n",
        "\n",
        "# Create label to evaluate the model\n",
        "label = [0] # Happy: 0\n",
        "y_eval = np.array(label)\n",
        "\n",
        "# Evaluate the model\n",
        "_, score = model.evaluate(x_eval, y_eval)\n",
        "print('Score: {}'.format(score))"
      ],
      "execution_count": 14,
      "outputs": [
        {
          "output_type": "stream",
          "text": [
            "(48, 48)\n",
            "1/1 [==============================] - 0s 116ms/sample - loss: 0.0000e+00 - accuracy: 1.0000\n",
            "Score: 1.0\n"
          ],
          "name": "stdout"
        }
      ]
    },
    {
      "cell_type": "markdown",
      "metadata": {
        "id": "R25xmaEKgjML",
        "colab_type": "text"
      },
      "source": [
        "Therefore, we can see that the model is able to achieve a very good score at prediction data."
      ]
    },
    {
      "cell_type": "markdown",
      "metadata": {
        "id": "rYucA-xjY6lf",
        "colab_type": "text"
      },
      "source": [
        "#### **Export Model**"
      ]
    },
    {
      "cell_type": "markdown",
      "metadata": {
        "id": "oC4iw6avY8a3",
        "colab_type": "text"
      },
      "source": [
        "Next, let's export the model in HDF5 format."
      ]
    },
    {
      "cell_type": "code",
      "metadata": {
        "id": "hzKwI-IIflPH",
        "colab_type": "code",
        "colab": {}
      },
      "source": [
        "!rm -rf BAModel.h5"
      ],
      "execution_count": 0,
      "outputs": []
    },
    {
      "cell_type": "code",
      "metadata": {
        "id": "shnRGLIYj4NE",
        "colab_type": "code",
        "colab": {}
      },
      "source": [
        "# Save model to HDF5 format\n",
        "model.save('BAModel.h5')"
      ],
      "execution_count": 0,
      "outputs": []
    },
    {
      "cell_type": "markdown",
      "metadata": {
        "id": "pmtmsUIkcDsp",
        "colab_type": "text"
      },
      "source": [
        "#### **Convert CoreML Model**"
      ]
    },
    {
      "cell_type": "markdown",
      "metadata": {
        "id": "noXSPot2gvtt",
        "colab_type": "text"
      },
      "source": [
        "Considering that we want to deploy the model to iOS devices, we need to convert the TensorFlow model to CoreML model."
      ]
    },
    {
      "cell_type": "markdown",
      "metadata": {
        "id": "2_xcuk7WcF6H",
        "colab_type": "text"
      },
      "source": [
        "First, we need to install packages to convert CoreML model. We use `tfcoreml` to convert the model."
      ]
    },
    {
      "cell_type": "code",
      "metadata": {
        "id": "itFF_lwkft_f",
        "colab_type": "code",
        "colab": {}
      },
      "source": [
        "!pip install --upgrade coremltools  > /dev/null 2>&1"
      ],
      "execution_count": 0,
      "outputs": []
    },
    {
      "cell_type": "markdown",
      "metadata": {
        "id": "--EoIGWa_GRb",
        "colab_type": "text"
      },
      "source": [
        "Then, we need to export and save CoreML model."
      ]
    },
    {
      "cell_type": "code",
      "metadata": {
        "id": "OS5S6Lo-C_Hy",
        "colab_type": "code",
        "colab": {}
      },
      "source": [
        "!rm -rf BAModel.mlmodel"
      ],
      "execution_count": 0,
      "outputs": []
    },
    {
      "cell_type": "code",
      "metadata": {
        "id": "jIrN0q1dibpc",
        "colab_type": "code",
        "colab": {
          "base_uri": "https://localhost:8080/",
          "height": 462
        },
        "outputId": "5903e810-fe91-4945-97f6-47ad2c49db42"
      },
      "source": [
        "import coremltools\n",
        "\n",
        "# Convert CoreML model\n",
        "model = coremltools.converters.tensorflow.convert(\n",
        "    'BAModel.h5',\n",
        "     input_name_shape_dict={'conv2d_input': INPUT_SHAPE},\n",
        "     output_feature_names=['Identity']\n",
        ")\n",
        "\n",
        "# Set metadata\n",
        "model.author = 'Mikemike Zhu'\n",
        "model.license = 'Mikemike Zhu Game Studio'\n",
        "model.short_description = 'Facial expression prediction model for Best Actor project'\n",
        "\n",
        "model.input_description['conv2d_input'] = 'Facial expression image'\n",
        "model.output_description['Identity'] = 'Probability of each facial expression label'\n",
        "\n",
        "# Save CoreML model\n",
        "model.save('BAModel.mlmodel')"
      ],
      "execution_count": 19,
      "outputs": [
        {
          "output_type": "stream",
          "text": [
            "WARNING:root:TensorFlow version 2.1.0 detected. Last version known to be fully compatible is 1.14.0 .\n",
            "WARNING:root:Keras version 2.3.1 detected. Last version known to be fully compatible of Keras is 2.2.4 .\n"
          ],
          "name": "stderr"
        },
        {
          "output_type": "stream",
          "text": [
            "WARNING:tensorflow:Error in loading the saved optimizer state. As a result, your model is starting with a freshly initialized optimizer.\n"
          ],
          "name": "stdout"
        },
        {
          "output_type": "stream",
          "text": [
            "WARNING:tensorflow:Error in loading the saved optimizer state. As a result, your model is starting with a freshly initialized optimizer.\n"
          ],
          "name": "stderr"
        },
        {
          "output_type": "stream",
          "text": [
            "0 assert nodes deleted\n",
            "6 nodes deleted\n",
            "0 nodes deleted\n",
            "0 nodes deleted\n",
            "[Op Fusion] fuse_bias_add() deleted 6 nodes.\n",
            "1 identity nodes deleted\n",
            "3 disconnected nodes deleted\n",
            "[SSAConverter] Converting function main ...\n",
            "[SSAConverter] [1/13] Converting op type: 'Placeholder', name: 'conv2d_input', output_shape: (-1, 48, 48, 1).\n",
            "[SSAConverter] [2/13] Converting op type: 'Const', name: 'sequential/flatten/Const', output_shape: (2,).\n",
            "[SSAConverter] [3/13] Converting op type: 'Transpose', name: 'conv2d_input_to_nchw', output_shape: (-1, 1, 48, 48).\n",
            "[SSAConverter] [4/13] Converting op type: 'Conv2D', name: 'sequential/conv2d/Conv2D', output_shape: (-1, 96, 46, 46).\n",
            "[SSAConverter] [5/13] Converting op type: 'Relu', name: 'sequential/activation/Relu', output_shape: (-1, 96, 46, 46).\n",
            "[SSAConverter] [6/13] Converting op type: 'MaxPool', name: 'sequential/max_pooling2d/MaxPool', output_shape: (-1, 96, -1, -1).\n",
            "[SSAConverter] [7/13] Converting op type: 'Conv2D', name: 'sequential/conv2d_1/Conv2D', output_shape: (-1, 64, -1, -1).\n",
            "[SSAConverter] [8/13] Converting op type: 'Relu', name: 'sequential/activation_1/Relu', output_shape: (-1, 64, -1, -1).\n",
            "[SSAConverter] [9/13] Converting op type: 'MaxPool', name: 'sequential/max_pooling2d_1/MaxPool', output_shape: (-1, 64, -1, -1).\n",
            "[SSAConverter] [10/13] Converting op type: 'Transpose', name: 'sequential/max_pooling2d_1/MaxPool_to_nhwc', output_shape: (-1, -1, -1, 64).\n",
            "[SSAConverter] [11/13] Converting op type: 'Reshape', name: 'sequential/flatten/Reshape', output_shape: (-1, 6400).\n",
            "[SSAConverter] [12/13] Converting op type: 'MatMul', name: 'sequential/dense/MatMul', output_shape: (-1, 3).\n",
            "[SSAConverter] [13/13] Converting op type: 'Softmax', name: 'Identity', output_shape: (-1, 3).\n"
          ],
          "name": "stdout"
        }
      ]
    },
    {
      "cell_type": "markdown",
      "metadata": {
        "id": "HJ8eCFwNY_xr",
        "colab_type": "text"
      },
      "source": [
        "### Part 2: Mobile Game"
      ]
    },
    {
      "cell_type": "markdown",
      "metadata": {
        "id": "Mtt_KGO7Z1bY",
        "colab_type": "text"
      },
      "source": [
        "#### **Crop ROI with OpenCV**"
      ]
    },
    {
      "cell_type": "markdown",
      "metadata": {
        "id": "TL2_nIqjbngm",
        "colab_type": "text"
      },
      "source": [
        "TODO"
      ]
    },
    {
      "cell_type": "markdown",
      "metadata": {
        "id": "XVmiDfG_b1HU",
        "colab_type": "text"
      },
      "source": [
        "#### **Predict using CoreML Model**"
      ]
    },
    {
      "cell_type": "markdown",
      "metadata": {
        "id": "VkoYt9AXb7HN",
        "colab_type": "text"
      },
      "source": [
        "TODO"
      ]
    },
    {
      "cell_type": "markdown",
      "metadata": {
        "id": "sLa776Prc5F4",
        "colab_type": "text"
      },
      "source": [
        "## Video Demonstration"
      ]
    },
    {
      "cell_type": "markdown",
      "metadata": {
        "id": "kuAKEmZldGpA",
        "colab_type": "text"
      },
      "source": [
        "TODO"
      ]
    },
    {
      "cell_type": "markdown",
      "metadata": {
        "id": "Nf1-fydpdHbP",
        "colab_type": "text"
      },
      "source": [
        "## Conclusion"
      ]
    },
    {
      "cell_type": "markdown",
      "metadata": {
        "id": "X5LZ7eledJFT",
        "colab_type": "text"
      },
      "source": [
        "TODO"
      ]
    },
    {
      "cell_type": "markdown",
      "metadata": {
        "id": "Te9vD-PsdJy7",
        "colab_type": "text"
      },
      "source": [
        "## Reference"
      ]
    },
    {
      "cell_type": "markdown",
      "metadata": {
        "id": "-3BZFJ7fdLrT",
        "colab_type": "text"
      },
      "source": [
        "TODO"
      ]
    }
  ]
}