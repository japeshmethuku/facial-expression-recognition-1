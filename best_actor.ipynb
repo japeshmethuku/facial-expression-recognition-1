{
  "nbformat": 4,
  "nbformat_minor": 0,
  "metadata": {
    "colab": {
      "name": "best_actor.ipynb",
      "provenance": [],
      "collapsed_sections": [],
      "toc_visible": true
    },
    "kernelspec": {
      "name": "python3",
      "display_name": "Python 3"
    }
  },
  "cells": [
    {
      "cell_type": "markdown",
      "metadata": {
        "id": "YyBqkgZISsmf",
        "colab_type": "text"
      },
      "source": [
        "# Best Actor - Mobile Game about Facial Expression based on Convolutional Neural Network"
      ]
    },
    {
      "cell_type": "markdown",
      "metadata": {
        "id": "bSxCe4JnUZgt",
        "colab_type": "text"
      },
      "source": [
        "## Abstract"
      ]
    },
    {
      "cell_type": "markdown",
      "metadata": {
        "id": "lnmA_P3cVPFE",
        "colab_type": "text"
      },
      "source": [
        "TODO"
      ]
    },
    {
      "cell_type": "markdown",
      "metadata": {
        "id": "8uZzZMz2TuaT",
        "colab_type": "text"
      },
      "source": [
        "## Terminology"
      ]
    },
    {
      "cell_type": "markdown",
      "metadata": {
        "id": "Rp0XZ2zKVQqa",
        "colab_type": "text"
      },
      "source": [
        "TODO"
      ]
    },
    {
      "cell_type": "markdown",
      "metadata": {
        "id": "9diS26hMZtGb",
        "colab_type": "text"
      },
      "source": [
        "## UI & UX Design"
      ]
    },
    {
      "cell_type": "markdown",
      "metadata": {
        "id": "90C9c0FvZvi4",
        "colab_type": "text"
      },
      "source": [
        "TODO"
      ]
    },
    {
      "cell_type": "markdown",
      "metadata": {
        "id": "hqdF7trTVH72",
        "colab_type": "text"
      },
      "source": [
        "## Technical Design"
      ]
    },
    {
      "cell_type": "markdown",
      "metadata": {
        "id": "Z1KYc1HNVOjX",
        "colab_type": "text"
      },
      "source": [
        "TODO"
      ]
    },
    {
      "cell_type": "markdown",
      "metadata": {
        "id": "JFtLSjWSVSvR",
        "colab_type": "text"
      },
      "source": [
        "## Code Implementation"
      ]
    },
    {
      "cell_type": "markdown",
      "metadata": {
        "id": "KvSr_4aaZEvB",
        "colab_type": "text"
      },
      "source": [
        "### Part 1: Computer Vision"
      ]
    },
    {
      "cell_type": "markdown",
      "metadata": {
        "id": "E3G_H9tDXYtE",
        "colab_type": "text"
      },
      "source": [
        "#### **Preprocess Data**"
      ]
    },
    {
      "cell_type": "markdown",
      "metadata": {
        "id": "P-vF1AWBXboW",
        "colab_type": "text"
      },
      "source": [
        "TODO"
      ]
    },
    {
      "cell_type": "markdown",
      "metadata": {
        "id": "9CfhEZQlXcwx",
        "colab_type": "text"
      },
      "source": [
        "#### **Load Data**"
      ]
    },
    {
      "cell_type": "markdown",
      "metadata": {
        "id": "jzGTHa1_XeyV",
        "colab_type": "text"
      },
      "source": [
        "TODO"
      ]
    },
    {
      "cell_type": "markdown",
      "metadata": {
        "id": "a2jBcnecXiHf",
        "colab_type": "text"
      },
      "source": [
        "#### **Tune Hyperparameter**"
      ]
    },
    {
      "cell_type": "markdown",
      "metadata": {
        "id": "uwZvnn-MXnN1",
        "colab_type": "text"
      },
      "source": [
        "TODO"
      ]
    },
    {
      "cell_type": "markdown",
      "metadata": {
        "id": "k1C3X5NfXn9r",
        "colab_type": "text"
      },
      "source": [
        "#### **Train Data**"
      ]
    },
    {
      "cell_type": "markdown",
      "metadata": {
        "id": "nOlJvEWXXrwP",
        "colab_type": "text"
      },
      "source": [
        "TODO"
      ]
    },
    {
      "cell_type": "markdown",
      "metadata": {
        "id": "QorjdxTEXscY",
        "colab_type": "text"
      },
      "source": [
        "#### **Evaluate Model**"
      ]
    },
    {
      "cell_type": "markdown",
      "metadata": {
        "id": "-2yvodZGY5NC",
        "colab_type": "text"
      },
      "source": [
        "TODO"
      ]
    },
    {
      "cell_type": "markdown",
      "metadata": {
        "id": "rYucA-xjY6lf",
        "colab_type": "text"
      },
      "source": [
        "#### **Export Model**"
      ]
    },
    {
      "cell_type": "markdown",
      "metadata": {
        "id": "oC4iw6avY8a3",
        "colab_type": "text"
      },
      "source": [
        "TODO"
      ]
    },
    {
      "cell_type": "markdown",
      "metadata": {
        "id": "pmtmsUIkcDsp",
        "colab_type": "text"
      },
      "source": [
        "#### **Convert CoreML Model**"
      ]
    },
    {
      "cell_type": "markdown",
      "metadata": {
        "id": "2_xcuk7WcF6H",
        "colab_type": "text"
      },
      "source": [
        "TODO"
      ]
    },
    {
      "cell_type": "markdown",
      "metadata": {
        "id": "HJ8eCFwNY_xr",
        "colab_type": "text"
      },
      "source": [
        "### Part 2: Mobile Game"
      ]
    },
    {
      "cell_type": "markdown",
      "metadata": {
        "id": "Mtt_KGO7Z1bY",
        "colab_type": "text"
      },
      "source": [
        "#### **Crop ROI with OpenCV**"
      ]
    },
    {
      "cell_type": "markdown",
      "metadata": {
        "id": "TL2_nIqjbngm",
        "colab_type": "text"
      },
      "source": [
        "TODO"
      ]
    },
    {
      "cell_type": "markdown",
      "metadata": {
        "id": "XVmiDfG_b1HU",
        "colab_type": "text"
      },
      "source": [
        "#### **Predict using CoreML Model**"
      ]
    },
    {
      "cell_type": "markdown",
      "metadata": {
        "id": "VkoYt9AXb7HN",
        "colab_type": "text"
      },
      "source": [
        "TODO"
      ]
    },
    {
      "cell_type": "markdown",
      "metadata": {
        "id": "sLa776Prc5F4",
        "colab_type": "text"
      },
      "source": [
        "## Demonstration"
      ]
    },
    {
      "cell_type": "markdown",
      "metadata": {
        "id": "kuAKEmZldGpA",
        "colab_type": "text"
      },
      "source": [
        "TODO"
      ]
    },
    {
      "cell_type": "markdown",
      "metadata": {
        "id": "Nf1-fydpdHbP",
        "colab_type": "text"
      },
      "source": [
        "## Conclusion"
      ]
    },
    {
      "cell_type": "markdown",
      "metadata": {
        "id": "X5LZ7eledJFT",
        "colab_type": "text"
      },
      "source": [
        "TODO"
      ]
    },
    {
      "cell_type": "markdown",
      "metadata": {
        "id": "Te9vD-PsdJy7",
        "colab_type": "text"
      },
      "source": [
        "## Reference"
      ]
    },
    {
      "cell_type": "markdown",
      "metadata": {
        "id": "-3BZFJ7fdLrT",
        "colab_type": "text"
      },
      "source": [
        "TODO"
      ]
    }
  ]
}